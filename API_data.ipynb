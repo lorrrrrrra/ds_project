{
 "cells": [
  {
   "cell_type": "markdown",
   "metadata": {},
   "source": [
    "# Preparations"
   ]
  },
  {
   "cell_type": "code",
   "execution_count": 28,
   "metadata": {},
   "outputs": [],
   "source": [
    "#!pip install -r requirements.txt\n",
    "import requests\n",
    "from urllib.parse import urlencode\n",
    "import googlemaps\n",
    "import os\n",
    "from dotenv import load_dotenv\n",
    "import time\n",
    "import pandas as pd"
   ]
  },
  {
   "cell_type": "code",
   "execution_count": 29,
   "metadata": {},
   "outputs": [],
   "source": [
    "# import the api_key from the api_key.py file\n",
    "from api_key import api_key"
   ]
  },
  {
   "cell_type": "markdown",
   "metadata": {},
   "source": [
    "# 1. City boundaries & grid"
   ]
  },
  {
   "cell_type": "code",
   "execution_count": 30,
   "metadata": {},
   "outputs": [],
   "source": [
    "# Function to get the city boundaries\n",
    "def get_city_boundaries(city_name):\n",
    "    # Initialize the Google Maps client\n",
    "    gmaps = googlemaps.Client(key=api_key) # googlemaps package\n",
    "    \n",
    "    # Get the city boundaries\n",
    "    geocode_result = gmaps.geocode(city_name)\n",
    "\n",
    "    # save the boundaries\n",
    "    low_lat = geocode_result[0]['geometry']['bounds']['southwest']['lat']\n",
    "    low_long = geocode_result[0]['geometry']['bounds']['southwest']['lng']\n",
    "    high_lat = geocode_result[0]['geometry']['bounds']['northeast']['lat']\n",
    "    high_long = geocode_result[0]['geometry']['bounds']['northeast']['lng']\n",
    "\n",
    "    \n",
    "    return low_lat, low_long, high_lat, high_long"
   ]
  },
  {
   "cell_type": "code",
   "execution_count": 31,
   "metadata": {},
   "outputs": [],
   "source": [
    "# Function to divide the city into a grid\n",
    "def divide_area_in_grid(boundary, step_size = 0.01):\n",
    "    low_lat, low_long, high_lat, high_long = boundary\n",
    "    grid = []\n",
    "    lat = low_lat\n",
    "    while lat < high_lat:\n",
    "        long = low_long\n",
    "        while long < high_long:\n",
    "            cell = (lat, long, min(lat + step_size, high_lat), min(long + step_size, high_long))\n",
    "            grid.append(cell)\n",
    "            long += step_size\n",
    "        lat += step_size\n",
    "    return grid    "
   ]
  },
  {
   "cell_type": "markdown",
   "metadata": {},
   "source": [
    "# 2. Get places data"
   ]
  },
  {
   "cell_type": "code",
   "execution_count": 32,
   "metadata": {},
   "outputs": [],
   "source": [
    "# all fields that are interesting for us\n",
    "search_fields = [\n",
    "    \"places.displayName\", \"places.id\", \"places.types\",\n",
    "    \"places.businessStatus\", \"places.pureServiceAreaBusiness\", \"places.formattedAddress\",\n",
    "    \"places.location\", \"places.primaryType\", \"places.primaryTypeDisplayName\", \"places.internationalPhoneNumber\", \"places.websiteUri\",\n",
    "    \"places.editorialSummary\", \"places.regularOpeningHours\", \"places.utcOffsetMinutes\",\n",
    "    \"places.priceLevel\", \"places.priceRange\", \"places.rating\", \"places.userRatingCount\",\n",
    "    \"places.curbsidePickup\", \"places.delivery\", \"places.dineIn\", \"places.liveMusic\",\n",
    "    \"places.parkingOptions\", \"places.paymentOptions\", \"places.outdoorSeating\",\n",
    "    \"places.reservable\", \"places.restroom\", \"places.servesBeer\", \"places.servesBreakfast\",\n",
    "    \"places.servesBrunch\", \"places.servesCocktails\", \"places.servesCoffee\", \"places.servesDessert\",\n",
    "    \"places.servesDinner\", \"places.servesLunch\", \"places.servesVegetarianFood\", \"places.servesWine\",\n",
    "    \"places.takeout\", \"places.accessibilityOptions\", \"places.allowsDogs\", \"places.goodForChildren\",\n",
    "    \"places.goodForGroups\", \"places.goodForWatchingSports\", \"places.menuForChildren\"\n",
    "]"
   ]
  },
  {
   "cell_type": "code",
   "execution_count": 33,
   "metadata": {},
   "outputs": [],
   "source": [
    "def get_places_data(boundary):\n",
    "    low_lat, low_long, high_lat, high_long = boundary\n",
    "\n",
    "    # Base URL\n",
    "    base_url = \"https://places.googleapis.com/v1/places:searchText\"\n",
    "    \n",
    "    # Headers\n",
    "    headers = {\n",
    "        \"Content-Type\": \"application/json\",\n",
    "        \"X-Goog-Api-Key\": api_key,\n",
    "        \"X-Goog-FieldMask\": \",\".join(search_fields) \n",
    "    }\n",
    "\n",
    "    results = [] # List to store the results\n",
    "    page_token = None  # Initialize the page token to None\n",
    "\n",
    "    while True:\n",
    "        # JSON request body\n",
    "        body = {\n",
    "            \"includedType\": \"restaurant\",  # Restrict to restaurants\n",
    "            \"strictTypeFiltering\": True,  # Only return results of the specified type\n",
    "            \"textQuery\": \"restaurant\",\n",
    "            \"pageSize\": 20,  # max results per page\n",
    "            \"pageToken\": page_token,  # Next page token, if any\n",
    "            \"languageCode\": \"en\",  # Language for results\n",
    "            \"locationRestriction\": {\n",
    "                \"rectangle\": {\n",
    "                    \"low\": {\"latitude\": low_lat, \"longitude\": low_long},\n",
    "                    \"high\": {\"latitude\": high_lat, \"longitude\": high_long}\n",
    "                }}\n",
    "        }\n",
    "\n",
    "        # Send the POST request to the API\n",
    "        response = requests.post(base_url, headers=headers, json=body)\n",
    "        # Check if the request was successful\n",
    "        if response.status_code == 200:\n",
    "            data = response.json()\n",
    "\n",
    "            # Check if \"places\" key is present in the response\n",
    "            if \"places\" in data:\n",
    "                results.extend(data[\"places\"])\n",
    "            else: break # Break the loop if no results are available\n",
    "\n",
    "            # Check if there is a next page token\n",
    "            if \"nextPageToken\" in data:\n",
    "                page_token = data[\"nextPageToken\"]\n",
    "            else:\n",
    "                break\n",
    "        else:\n",
    "            print(\"Error:\", response.status_code, \"Message:\", response.text)\n",
    "            break\n",
    "    \n",
    "    return results"
   ]
  },
  {
   "cell_type": "markdown",
   "metadata": {},
   "source": [
    "# 3. Get the data from the grid"
   ]
  },
  {
   "cell_type": "code",
   "execution_count": 34,
   "metadata": {},
   "outputs": [],
   "source": [
    "def get_places_data_in_grid(grid):\n",
    "    all_results = []\n",
    "\n",
    "    for cell in grid:\n",
    "        results = get_places_data(cell)\n",
    "        time.sleep(2)\n",
    "\n",
    "        if len(results) != 60:\n",
    "            all_results.extend(results)\n",
    "\n",
    "        # If API returns full results, recursively split the cell\n",
    "        if len(results) == 60:\n",
    "            print(f\"Overcrowded cell detected: {cell}\")\n",
    "            low_lat, low_long, high_lat, high_long = cell\n",
    "            mid_lat = (low_lat + high_lat) / 2\n",
    "            mid_long = (low_long + high_long) / 2\n",
    "            sub_cells = [\n",
    "                (low_lat, low_long, mid_lat, mid_long),  # Bottom-left\n",
    "                (low_lat, mid_long, mid_lat, high_long),  # Bottom-right\n",
    "                (mid_lat, low_long, high_lat, mid_long),  # Top-left\n",
    "                (mid_lat, mid_long, high_lat, high_long)  # Top-right\n",
    "            ]\n",
    "\n",
    "            # Recursive call for each sub-cell\n",
    "            subdivided_results = get_places_data_in_grid(sub_cells)\n",
    "            all_results.extend(subdivided_results)  # Append all subdivided results\n",
    "    \n",
    "    return all_results"
   ]
  },
  {
   "cell_type": "markdown",
   "metadata": {},
   "source": [
    "# 4. Clean dataset"
   ]
  },
  {
   "cell_type": "code",
   "execution_count": 35,
   "metadata": {},
   "outputs": [],
   "source": [
    "def clean_dataset(results):\n",
    "    cleaned_basics = []\n",
    "    cleaned_general = []\n",
    "    cleaned_additional = []\n",
    "\n",
    "    for result in results:\n",
    "        # the most basic information\n",
    "        basic_info = { \n",
    "            \"id\": result.get(\"id\"),\n",
    "            \"name\": result.get(\"displayName\"),\n",
    "            \"types\": result.get(\"types\"),\n",
    "            \"primaryType\": result.get(\"primaryType\"),\n",
    "            \"primaryTypeDisplayName\": result.get(\"primaryTypeDisplayName\"),\n",
    "            \"businessStatus\": result.get(\"businessStatus\"),\n",
    "            \"pureServiceAreaBusiness\": result.get(\"pureServiceAreaBusiness\"),\n",
    "            \"formattedAddress\": result.get(\"formattedAddress\"),\n",
    "            \"location\": result.get(\"location\")}\n",
    "        cleaned_basics.append(basic_info)\n",
    "\n",
    "        # general information\n",
    "        general_info = {\n",
    "            \"id\": result.get(\"id\"),\n",
    "            \"internationalPhoneNumber\": result.get(\"internationalPhoneNumber\"),\n",
    "            \"placesWebsiteUri\": result.get(\"websiteUri\"),\n",
    "            \"editorialSummary\": result.get(\"editorialSummary\"), \n",
    "            \"regularOpeningHours\": result.get(\"regularOpeningHours\"),\n",
    "            \"utcOffsetMinutes\": result.get(\"utcOffsetMinutes\"),\n",
    "            \"priceLevel\": result.get(\"priceLevel\"),\n",
    "            \"priceRange\": result.get(\"priceRange\"),\n",
    "            \"rating\": result.get(\"rating\"),\n",
    "            \"userRatingCount\": result.get(\"userRatingCount\")}\n",
    "        cleaned_general.append(general_info)\n",
    "\n",
    "        # additional information\n",
    "        additional_info = { \n",
    "            \"id\": result.get(\"id\"),\n",
    "            \"curbsidePickup\": result.get(\"curbsidePickup\"),\n",
    "            \"delivery\": result.get(\"delivery\"),\n",
    "            \"dineIn\": result.get(\"dineIn\"),\n",
    "            \"liveMusic\": result.get(\"liveMusic\"),\n",
    "            \"parkingOptions\": result.get(\"parkingOptions\"),\n",
    "            \"paymentOptions\": result.get(\"paymentOptions\"),\n",
    "            \"outdoorSeating\": result.get(\"outdoorSeating\"),\n",
    "            \"reservable\": result.get(\"reservable\"),\n",
    "            \"restroom\": result.get(\"restroom\"),\n",
    "            \"servesBeer\": result.get(\"servesBeer\"),\n",
    "            \"servesBreakfast\": result.get(\"servesBreakfast\"),\n",
    "            \"servesBrunch\": result.get(\"servesBrunch\"),\n",
    "            \"servesCocktails\": result.get(\"servesCocktails\"),\n",
    "            \"servesCoffee\": result.get(\"servesCoffee\"),\n",
    "            \"servesDessert\": result.get(\"servesDessert\"),\n",
    "            \"servesDinner\": result.get(\"servesDinner\"),\n",
    "            \"servesLunch\": result.get(\"servesLunch\"),\n",
    "            \"servesVegetarianFood\": result.get(\"servesVegetarianFood\"),\n",
    "            \"servesWine\": result.get(\"servesWine\"),\n",
    "            \"takeout\": result.get(\"takeout\"),\n",
    "            \"accessibilityOptions\": result.get(\"accessibilityOptions\"),\n",
    "            \"allowsDogs\": result.get(\"allowsDogs\"),\n",
    "            \"goodForChildren\": result.get(\"goodForChildren\"),\n",
    "            \"goodForGroups\": result.get(\"goodForGroups\"),\n",
    "            \"goodForWatchingSports\": result.get(\"goodForWatchingSports\"),\n",
    "            \"menuForChildren\": result.get(\"menuForChildren\")}\n",
    "        cleaned_additional.append(additional_info)\n",
    "\n",
    "\n",
    "    cleaned_basics = pd.DataFrame(cleaned_basics)\n",
    "    cleaned_general = pd.DataFrame(cleaned_general)\n",
    "    cleaned_additional = pd.DataFrame(cleaned_additional)\n",
    "\n",
    "    return cleaned_basics, cleaned_general, cleaned_additional"
   ]
  },
  {
   "cell_type": "markdown",
   "metadata": {},
   "source": [
    "# Final function to combine all "
   ]
  },
  {
   "cell_type": "code",
   "execution_count": 36,
   "metadata": {},
   "outputs": [],
   "source": [
    "# Final function to fetch all restaurants for a given city\n",
    "def fetch_restaurants_in_city(city):\n",
    "    boundary = get_city_boundaries(city)\n",
    "    grid = divide_area_in_grid(boundary)\n",
    "    results = get_places_data_in_grid(grid)\n",
    "    cleaned_basics, cleaned_general, cleaned_additional = clean_dataset(results)\n",
    "    \n",
    "    # You can choose to return the cleaned data in any form you need\n",
    "    return cleaned_basics, cleaned_general, cleaned_additional\n"
   ]
  },
  {
   "cell_type": "code",
   "execution_count": null,
   "metadata": {},
   "outputs": [],
   "source": [
    "cities = [\"München\", \"Stuttgart\", \"Nürnberg\", \"Mannheim\", \"Karlsruhe\", \"Augsburg\", \"Freiburg\", \"Heidelberg\", \"Regensburg\", \"Tübingen\"]\n",
    "API_basics = pd.DataFrame()\n",
    "API_general = pd.DataFrame()\n",
    "API_additional = pd.DataFrame()\n",
    "\n",
    "for city in cities:\n",
    "    print(f\"Fetching data for {city}\")\n",
    "\n",
    "    cleaned_basics, cleaned_general, cleaned_additional = fetch_restaurants_in_city(city)\n",
    "    cleaned_basics['city'] = city # add the city to the dataframe\n",
    "    \n",
    "    API_basics = pd.concat([API_basics, cleaned_basics], ignore_index=True)\n",
    "    API_general = pd.concat([API_general, cleaned_general], ignore_index=True)\n",
    "    API_additional = pd.concat([API_additional, cleaned_additional], ignore_index=True)\n",
    "    print(f\"Number of restaurants in {city}: {len(cleaned_basics)}\")\n",
    "    print(len(API_basics))\n",
    "    print()"
   ]
  },
  {
   "cell_type": "code",
   "execution_count": 53,
   "metadata": {},
   "outputs": [],
   "source": [
    "# Save the data to a csv file\n",
    "API_basics.to_csv(\"API_Basics.csv\", index=False)\n",
    "API_general.to_csv(\"API_General.csv\", index=False)\n",
    "API_additional.to_csv(\"API_Additional.csv\", index=False)"
   ]
  },
  {
   "cell_type": "code",
   "execution_count": 54,
   "metadata": {},
   "outputs": [
    {
     "name": "stdout",
     "output_type": "stream",
     "text": [
      "4182871.0\n"
     ]
    }
   ],
   "source": [
    "print(API_general[\"userRatingCount\"].sum())"
   ]
  }
 ],
 "metadata": {
  "kernelspec": {
   "display_name": ".venv",
   "language": "python",
   "name": "python3"
  },
  "language_info": {
   "codemirror_mode": {
    "name": "ipython",
    "version": 3
   },
   "file_extension": ".py",
   "mimetype": "text/x-python",
   "name": "python",
   "nbconvert_exporter": "python",
   "pygments_lexer": "ipython3",
   "version": "3.11.9"
  }
 },
 "nbformat": 4,
 "nbformat_minor": 2
}
