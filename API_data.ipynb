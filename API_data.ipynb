{
 "cells": [
  {
   "cell_type": "markdown",
   "metadata": {},
   "source": [
    "# Preparations"
   ]
  },
  {
   "cell_type": "code",
   "execution_count": 1,
   "metadata": {},
   "outputs": [],
   "source": [
    "#!pip install -r requirements.txt\n",
    "import requests\n",
    "from urllib.parse import urlencode\n",
    "import googlemaps\n",
    "import os\n",
    "from dotenv import load_dotenv\n",
    "import time\n",
    "import pandas as pd"
   ]
  },
  {
   "cell_type": "code",
   "execution_count": 2,
   "metadata": {},
   "outputs": [],
   "source": [
    "# import the api_key from the api_key.py file\n",
    "from api_key import api_key"
   ]
  },
  {
   "cell_type": "markdown",
   "metadata": {},
   "source": [
    "# City boundaries & grid"
   ]
  },
  {
   "cell_type": "code",
   "execution_count": null,
   "metadata": {},
   "outputs": [],
   "source": [
    "# Function to get the city boundaries\n",
    "def get_city_boundaries(city_name):\n",
    "    # Initialize the Google Maps client\n",
    "    gmaps = googlemaps.Client(key=api_key) # googlemaps package\n",
    "    \n",
    "    # Get the city boundaries\n",
    "    geocode_result = gmaps.geocode(city_name)\n",
    "\n",
    "    # save the boundaries\n",
    "    low_lat = geocode_result[0]['geometry']['bounds']['southwest']['lat']\n",
    "    low_long = geocode_result[0]['geometry']['bounds']['southwest']['lng']\n",
    "    high_lat = geocode_result[0]['geometry']['bounds']['northeast']['lat']\n",
    "    high_long = geocode_result[0]['geometry']['bounds']['northeast']['lng']\n",
    "\n",
    "    \n",
    "    return low_lat, low_long, high_lat, high_long"
   ]
  },
  {
   "cell_type": "code",
   "execution_count": 16,
   "metadata": {},
   "outputs": [],
   "source": [
    "# Function to divide the city into a grid\n",
    "def divide_area_in_grid(boundary, step_size = 0.01):\n",
    "    low_lat, low_long, high_lat, high_long = boundary\n",
    "    grid = []\n",
    "    lat = low_lat\n",
    "    while lat < high_lat:\n",
    "        long = low_long\n",
    "        while long < high_long:\n",
    "            cell = (lat, long, min(lat + step_size, high_lat), min(long + step_size, high_long))\n",
    "            grid.append(cell)\n",
    "            long += step_size\n",
    "        lat += step_size\n",
    "    return grid    "
   ]
  },
  {
   "cell_type": "markdown",
   "metadata": {},
   "source": [
    "# Get places data"
   ]
  },
  {
   "cell_type": "code",
   "execution_count": null,
   "metadata": {},
   "outputs": [],
   "source": [
    "# all fields that are interesting for us\n",
    "search_fields = [\n",
    "    # Fields that trigger the Text Search (ID Only) SKU\n",
    "    \"places.displayName\", \"places.attributions\", \"places.id\", \"nextPageToken\",\n",
    "\n",
    "    # Fields that trigger the Text Search (Basic) SKU\n",
    "    \"places.accessibilityOptions\",\n",
    "    \"places.businessStatus\", \"places.containingPlaces\", \"places.displayName\", \n",
    "    \"places.formattedAddress\", \"places.googleMapsLinks\", \n",
    "    \"places.location\", \"places.primaryType\", \"places.primaryTypeDisplayName\", \n",
    "    \"places.pureServiceAreaBusiness\", \"places.subDestinations\", \n",
    "    \"places.types\", \"places.utcOffsetMinutes\", \"places.viewport\",\n",
    "\n",
    "    # Fields that trigger the Text Search (Advanced) SKU\n",
    "    \"places.internationalPhoneNumber\", \"places.nationalPhoneNumber\", \"places.priceLevel\", \n",
    "    \"places.priceRange\", \"places.rating\", \"places.regularOpeningHours\", \n",
    "    \"places.userRatingCount\", \"places.websiteUri\",\n",
    "\n",
    "    # Fields that trigger the Text Search (Preferred) SKU\n",
    "    \"places.allowsDogs\", \"places.curbsidePickup\", \"places.delivery\", \"places.dineIn\", \n",
    "    \"places.editorialSummary\", \"places.evChargeOptions\", \"places.fuelOptions\", \n",
    "    \"places.goodForChildren\", \"places.goodForGroups\", \"places.goodForWatchingSports\", \n",
    "    \"places.liveMusic\", \"places.menuForChildren\", \"places.parkingOptions\", \n",
    "    \"places.paymentOptions\", \"places.outdoorSeating\", \"places.reservable\", \"places.restroom\", \n",
    "    \"places.reviews\", \"places.servesBeer\", \n",
    "    \"places.servesBreakfast\", \"places.servesBrunch\", \"places.servesCocktails\", \n",
    "    \"places.servesCoffee\", \"places.servesDessert\", \"places.servesDinner\", \n",
    "    \"places.servesLunch\", \"places.servesVegetarianFood\", \"places.servesWine\", \n",
    "    \"places.takeout\"\n",
    "]"
   ]
  },
  {
   "cell_type": "code",
   "execution_count": null,
   "metadata": {},
   "outputs": [],
   "source": [
    "def get_places_data(boundary):\n",
    "    low_lat, low_long, high_lat, high_long = boundary\n",
    "\n",
    "    # Base URL\n",
    "    base_url = \"https://places.googleapis.com/v1/places:searchText\"\n",
    "    \n",
    "    # Headers\n",
    "    headers = {\n",
    "        \"Content-Type\": \"application/json\",\n",
    "        \"X-Goog-Api-Key\": api_key,\n",
    "        \"X-Goog-FieldMask\": \",\".join(search_fields) \n",
    "    }\n",
    "\n",
    "    results = [] # List to store the results\n",
    "    page_token = None  # Initialize the page token to None\n",
    "\n",
    "    while True:\n",
    "        # JSON request body\n",
    "        body = {\n",
    "            \"includedType\": \"restaurant\",  # Restrict to restaurants\n",
    "            \"strictTypeFiltering\": True,  # Only return results of the specified type\n",
    "            \"textQuery\": \"restaurant\",\n",
    "            \"pageSize\": 20,  # max results per page\n",
    "            \"pageToken\": page_token,  # Next page token, if any\n",
    "            \"languageCode\": \"en\",  # Language for results\n",
    "            \"locationRestriction\": {\n",
    "                \"rectangle\": {\n",
    "                    \"low\": {\"latitude\": low_lat, \"longitude\": low_long},\n",
    "                    \"high\": {\"latitude\": high_lat, \"longitude\": high_long}\n",
    "                }}\n",
    "        }\n",
    "\n",
    "        # Send the POST request to the API\n",
    "        response = requests.post(base_url, headers=headers, json=body)\n",
    "        # Check if the request was successful\n",
    "        if response.status_code == 200:\n",
    "            data = response.json()\n",
    "\n",
    "            # Check if \"places\" key is present in the response\n",
    "            if \"places\" in data:\n",
    "                results.extend(data[\"places\"])\n",
    "            else: break # Break the loop if no results are available\n",
    "\n",
    "            # Check if there is a next page token\n",
    "            if \"nextPageToken\" in data:\n",
    "                page_token = data[\"nextPageToken\"]\n",
    "            else:\n",
    "                break\n",
    "        else:\n",
    "            print(\"Error:\", response.status_code, \"Message:\", response.text)\n",
    "            break\n",
    "    \n",
    "    return results"
   ]
  },
  {
   "cell_type": "markdown",
   "metadata": {},
   "source": [
    "# Get the data from the grid"
   ]
  },
  {
   "cell_type": "code",
   "execution_count": null,
   "metadata": {},
   "outputs": [],
   "source": [
    "def get_places_data_in_grid(grid):\n",
    "    all_results = []\n",
    "\n",
    "    for cell in grid:\n",
    "        results = get_places_data(cell)\n",
    "        time.sleep(2)\n",
    "\n",
    "        if len(results) != 60:\n",
    "            all_results.extend(results)\n",
    "\n",
    "        # If API returns full results, recursively split the cell\n",
    "        if len(results) == 60:\n",
    "            print(f\"Overcrowded cell detected: {cell}\")\n",
    "            low_lat, low_long, high_lat, high_long = cell\n",
    "            mid_lat = (low_lat + high_lat) / 2\n",
    "            mid_long = (low_long + high_long) / 2\n",
    "            sub_cells = [\n",
    "                (low_lat, low_long, mid_lat, mid_long),  # Bottom-left\n",
    "                (low_lat, mid_long, mid_lat, high_long),  # Bottom-right\n",
    "                (mid_lat, low_long, high_lat, mid_long),  # Top-left\n",
    "                (mid_lat, mid_long, high_lat, high_long)  # Top-right\n",
    "            ]\n",
    "\n",
    "            # Recursive call for each sub-cell\n",
    "            subdivided_results = get_places_data_in_grid(sub_cells)\n",
    "            all_results.extend(subdivided_results)  # Append all subdivided results\n",
    "    \n",
    "    return all_results"
   ]
  }
 ],
 "metadata": {
  "kernelspec": {
   "display_name": ".venv",
   "language": "python",
   "name": "python3"
  },
  "language_info": {
   "codemirror_mode": {
    "name": "ipython",
    "version": 3
   },
   "file_extension": ".py",
   "mimetype": "text/x-python",
   "name": "python",
   "nbconvert_exporter": "python",
   "pygments_lexer": "ipython3",
   "version": "3.11.9"
  }
 },
 "nbformat": 4,
 "nbformat_minor": 2
}
