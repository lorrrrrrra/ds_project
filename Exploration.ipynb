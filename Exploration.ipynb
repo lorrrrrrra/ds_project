{
 "cells": [
  {
   "cell_type": "markdown",
   "metadata": {},
   "source": [
    "# First steps for Google Places API\n",
    "\n",
    "Places API supports two API versions: Places API are the existing APIs and Places API (New) are the next generation version of the APIs\n",
    "https://developers.google.com/maps/documentation/places/web-service/choose-api\n",
    "\n",
    "In the following several options to use both Places APIs are explored:"
   ]
  },
  {
   "cell_type": "markdown",
   "metadata": {},
   "source": [
    "## Preparations"
   ]
  },
  {
   "cell_type": "code",
   "execution_count": 15,
   "metadata": {},
   "outputs": [],
   "source": [
    "#!pip install -r requirements.txt"
   ]
  },
  {
   "cell_type": "code",
   "execution_count": 16,
   "metadata": {},
   "outputs": [],
   "source": [
    "import requests\n",
    "from urllib.parse import urlencode\n",
    "import googlemaps\n",
    "import os\n",
    "from dotenv import load_dotenv\n",
    "import time\n",
    "import pandas as pd"
   ]
  },
  {
   "cell_type": "code",
   "execution_count": 17,
   "metadata": {},
   "outputs": [],
   "source": [
    "# import the api_key from the api_key.py file\n",
    "from api_key import api_key"
   ]
  },
  {
   "cell_type": "markdown",
   "metadata": {},
   "source": [
    "## 1. nearbysearch: only location"
   ]
  },
  {
   "cell_type": "code",
   "execution_count": 18,
   "metadata": {},
   "outputs": [],
   "source": [
    "def get_place_info(address):\n",
    "# Base URL\n",
    "  base_url = \"https://maps.googleapis.com/maps/api/place/findplacefromtext/json\"\n",
    "# Parameters in a dictionary\n",
    "  params = {\n",
    "   \"input\": address,\n",
    "   \"inputtype\": \"textquery\",\n",
    "   \"fields\": \"name,geometry/location,place_id\",\n",
    "   \"key\": api_key,\n",
    "  }\n",
    "# Send request and capture response\n",
    "  response = requests.get(base_url, params=params)\n",
    "# Check if the request was successful\n",
    "  if response.status_code == 200:\n",
    "    return response.json()\n",
    "  else:\n",
    "    return None"
   ]
  },
  {
   "cell_type": "code",
   "execution_count": 19,
   "metadata": {},
   "outputs": [
    {
     "name": "stdout",
     "output_type": "stream",
     "text": [
      "{'candidates': [{'geometry': {'location': {'lat': 48.5216364, 'lng': 9.0576448}}, 'name': 'Tübingen', 'place_id': 'ChIJgdDN7dT6mUcRjacz_s6uCKw'}], 'status': 'OK'}\n"
     ]
    }
   ],
   "source": [
    "info = get_place_info(\"tübingen\")\t\n",
    "print(info)\n",
    "\n",
    "longitude =  info[\"candidates\"][0].get(\"geometry\", {}).get(\"location\", {}).get(\"lng\")\n",
    "latitude = info[\"candidates\"][0].get(\"geometry\", {}).get(\"location\", {}).get(\"lat\")"
   ]
  },
  {
   "cell_type": "code",
   "execution_count": 20,
   "metadata": {},
   "outputs": [],
   "source": [
    "# all fields that are possible and could be interesting for us\n",
    "field_nearby_places = [\n",
    "    # Fields that trigger the Nearby Search (Basic) SKU\n",
    "    \"places.accessibilityOptions\", \"places.addressComponents\", \"places.adrFormatAddress\", \n",
    "    \"places.attributions\", \"places.businessStatus\", \"places.containingPlaces\", \n",
    "    \"places.displayName\", \"places.formattedAddress\", \"places.googleMapsLinks\", \n",
    "    \"places.id\", \"places.location\", \"places.name\", \"places.plusCode\", \n",
    "    \"places.primaryType\", \"places.primaryTypeDisplayName\", \"places.pureServiceAreaBusiness\", \n",
    "    \"places.shortFormattedAddress\", \"places.subDestinations\", \"places.types\", \n",
    "    \"places.utcOffsetMinutes\", \"places.viewport\",\n",
    "\n",
    "    # Fields that trigger the Nearby Search (Advanced) SKU\n",
    "    \"places.currentOpeningHours\", \"places.currentSecondaryOpeningHours\", \n",
    "    \"places.nationalPhoneNumber\", \"places.priceLevel\", \n",
    "    \"places.priceRange\", \"places.rating\", \"places.regularOpeningHours\", \n",
    "    \"places.regularSecondaryOpeningHours\", \"places.userRatingCount\", \"places.websiteUri\",\n",
    "\n",
    "    # Fields that trigger the Nearby Search (Preferred) SKU\n",
    "    \"places.allowsDogs\", \"places.curbsidePickup\", \"places.delivery\", \"places.dineIn\", \n",
    "    \"places.editorialSummary\", \"places.evChargeOptions\", \"places.fuelOptions\", \n",
    "    \"places.goodForChildren\", \"places.goodForGroups\", \"places.goodForWatchingSports\", \n",
    "    \"places.liveMusic\", \"places.menuForChildren\", \"places.parkingOptions\", \n",
    "    \"places.paymentOptions\", \"places.outdoorSeating\", \"places.reservable\", \"places.restroom\", \n",
    "    \"places.reviews\", \"places.servesBeer\", \n",
    "    \"places.servesBreakfast\", \"places.servesBrunch\", \"places.servesCocktails\", \n",
    "    \"places.servesCoffee\", \"places.servesDessert\", \"places.servesDinner\", \n",
    "    \"places.servesLunch\", \"places.servesVegetarianFood\", \"places.servesWine\", \n",
    "    \"places.takeout\"\n",
    "]"
   ]
  },
  {
   "cell_type": "code",
   "execution_count": 21,
   "metadata": {},
   "outputs": [],
   "source": [
    "def get_nearby_places(latitude, longitude, radius=500, max_results=10):\n",
    "    # Base URL\n",
    "    base_url = \"https://places.googleapis.com/v1/places:searchNearby\"\n",
    "    # JSON request body\n",
    "    body = {\"includedTypes\": [\"restaurant\"],  # Restrict to restaurants only\n",
    "            \"maxResultCount\": max_results,  # Max number of results to return\n",
    "            \"locationRestriction\": {\n",
    "                \"circle\": {\n",
    "                    \"center\": {\"latitude\": latitude,\n",
    "                               \"longitude\": longitude},\n",
    "                    \"radius\": radius  # Radius for the search\n",
    "                }\n",
    "            },\n",
    "            \"languageCode\": \"en\",  # Language code for the results\n",
    "        }\n",
    "    # Headers\n",
    "    headers = {\n",
    "        \"Content-Type\": \"application/json\",\n",
    "        \"X-Goog-Api-Key\": api_key,\n",
    "        \"X-Goog-FieldMask\": \"places.name,places.id,places.displayName\" # to save quota\n",
    "        #\"X-Goog-FieldMask\": \",\".join(field_nearby_places) # to get all intersting fields\n",
    "    }\n",
    "    # Send the POST request to the API\n",
    "    response = requests.post(base_url, headers=headers, json=body)\n",
    "    # Check if the request was successful\n",
    "    if response.status_code == 200:\n",
    "        return response.json()\n",
    "    else:\n",
    "        print(\"Error:\", response.status_code, \"Message:\", response.text)"
   ]
  },
  {
   "cell_type": "code",
   "execution_count": 22,
   "metadata": {},
   "outputs": [
    {
     "name": "stdout",
     "output_type": "stream",
     "text": [
      "{'places': [{'name': 'places/ChIJn5ANpsv7mUcRGS2GWvH2-qs', 'id': 'ChIJn5ANpsv7mUcRGS2GWvH2-qs', 'displayName': {'text': '1821 Tübingen', 'languageCode': 'de'}}, {'name': 'places/ChIJZ9kADtP6mUcRF3IM1orJ8aI', 'id': 'ChIJZ9kADtP6mUcRF3IM1orJ8aI', 'displayName': {'text': 'Die Wurstküche', 'languageCode': 'de'}}, {'name': 'places/ChIJ5bNxBdP6mUcRoihNgmDzZl4', 'id': 'ChIJ5bNxBdP6mUcRoihNgmDzZl4', 'displayName': {'text': 'Esszimmer', 'languageCode': 'de'}}, {'name': 'places/ChIJraX0HdP6mUcRb9JGr9jEChQ', 'id': 'ChIJraX0HdP6mUcRb9JGr9jEChQ', 'displayName': {'text': 'Kado-Ya', 'languageCode': 'en'}}, {'name': 'places/ChIJo_FWZ9P6mUcRs-zk6oSThbI', 'id': 'ChIJo_FWZ9P6mUcRs-zk6oSThbI', 'displayName': {'text': 'Eiscafé San Marco Tübingen', 'languageCode': 'de'}}, {'name': 'places/ChIJQ4bnEdP6mUcR3w2eH4yFf1c', 'id': 'ChIJQ4bnEdP6mUcR3w2eH4yFf1c', 'displayName': {'text': 'Salam Imbiss Tübingen', 'languageCode': 'de'}}, {'name': 'places/ChIJq6q2ANP6mUcRtcP54mcEUFY', 'id': 'ChIJq6q2ANP6mUcRtcP54mcEUFY', 'displayName': {'text': 'IssWas', 'languageCode': 'de'}}, {'name': 'places/ChIJQfCVYy7lmUcRLciIbQqplJo', 'id': 'ChIJQfCVYy7lmUcRLciIbQqplJo', 'displayName': {'text': 'Restaurant Le Romarin', 'languageCode': 'en'}}, {'name': 'places/ChIJ7bFTNtL6mUcRx-sgtv9Q108', 'id': 'ChIJ7bFTNtL6mUcRx-sgtv9Q108', 'displayName': {'text': 'Bäckerei Gehr Mühlstraße', 'languageCode': 'de'}}, {'name': 'places/ChIJR70z35n7mUcRCflCXpWQqGc', 'id': 'ChIJR70z35n7mUcRCflCXpWQqGc', 'displayName': {'text': 'Restaurant La Médina', 'languageCode': 'de'}}, {'name': 'places/ChIJ74HsYgD7mUcRX5dxelNMtJc', 'id': 'ChIJ74HsYgD7mUcRX5dxelNMtJc', 'displayName': {'text': 'short stories', 'languageCode': 'de'}}, {'name': 'places/ChIJ1bE7WkD7mUcRTodotd8jEoI', 'id': 'ChIJ1bE7WkD7mUcRTodotd8jEoI', 'displayName': {'text': 'Pink Molle', 'languageCode': 'de'}}]}\n"
     ]
    }
   ],
   "source": [
    "result = get_nearby_places(latitude, longitude, max_results=15, radius=100)\n",
    "print(result)"
   ]
  },
  {
   "cell_type": "markdown",
   "metadata": {},
   "source": [
    "## 2. textsearch: keywords + opt. location\n",
    "https://developers.google.com/maps/documentation/places/web-service/text-search#text-search-requests\n",
    "\n",
    "filtering options:\n",
    "- includePureServiceAreaBusinesses: filter for physical business location true or false\n",
    "- locationRestriction or locationBias --> if omited API uses IP biasing by default; but locationBias parameter can be overridden if a location is in the textQuery \n",
    "    - rectangular Viewport or as a circle\n",
    "- minRating\n",
    "- openNow\n",
    "- priceLevels\n",
    "- rankPreference\n",
    "- regionCode"
   ]
  },
  {
   "cell_type": "code",
   "execution_count": 23,
   "metadata": {},
   "outputs": [],
   "source": [
    "# all fields that are possible and interesting for us\n",
    "field_textsearch = [\n",
    "    # Fields that trigger the Text Search (ID Only) SKU\n",
    "    \"places.attributions\", \"places.id\", \"places.name\", \"nextPageToken\",\n",
    "\n",
    "    # Fields that trigger the Text Search (Basic) SKU\n",
    "    \"places.accessibilityOptions\", \"places.addressComponents\", \"places.adrFormatAddress\", \n",
    "    \"places.businessStatus\", \"places.containingPlaces\", \"places.displayName\", \n",
    "    \"places.formattedAddress\", \"places.googleMapsLinks\", \n",
    "    \"places.location\", \n",
    "    \"places.plusCode\", \"places.primaryType\", \"places.primaryTypeDisplayName\", \n",
    "    \"places.pureServiceAreaBusiness\", \"places.shortFormattedAddress\", \"places.subDestinations\", \n",
    "    \"places.types\", \"places.utcOffsetMinutes\", \"places.viewport\",\n",
    "\n",
    "    # Fields that trigger the Text Search (Advanced) SKU\n",
    "    \"places.currentOpeningHours\", \"places.currentSecondaryOpeningHours\", \n",
    "    \"places.internationalPhoneNumber\", \"places.nationalPhoneNumber\", \"places.priceLevel\", \n",
    "    \"places.priceRange\", \"places.rating\", \"places.regularOpeningHours\", \n",
    "    \"places.regularSecondaryOpeningHours\", \"places.userRatingCount\", \"places.websiteUri\",\n",
    "\n",
    "    # Fields that trigger the Text Search (Preferred) SKU\n",
    "    \"places.allowsDogs\", \"places.curbsidePickup\", \"places.delivery\", \"places.dineIn\", \n",
    "    \"places.editorialSummary\", \"places.evChargeOptions\", \"places.fuelOptions\", \n",
    "    \"places.goodForChildren\", \"places.goodForGroups\", \"places.goodForWatchingSports\", \n",
    "    \"places.liveMusic\", \"places.menuForChildren\", \"places.parkingOptions\", \n",
    "    \"places.paymentOptions\", \"places.outdoorSeating\", \"places.reservable\", \"places.restroom\", \n",
    "    \"places.reviews\", \"places.routingSummaries\", \"places.servesBeer\", \n",
    "    \"places.servesBreakfast\", \"places.servesBrunch\", \"places.servesCocktails\", \n",
    "    \"places.servesCoffee\", \"places.servesDessert\", \"places.servesDinner\", \n",
    "    \"places.servesLunch\", \"places.servesVegetarianFood\", \"places.servesWine\", \n",
    "    \"places.takeout\"\n",
    "]"
   ]
  },
  {
   "cell_type": "code",
   "execution_count": 24,
   "metadata": {},
   "outputs": [],
   "source": [
    "def get_places_textsearch(query, radius=None, max_results=10, page_token=None):\n",
    "    # Base URL\n",
    "    base_url = \"https://places.googleapis.com/v1/places:searchText\"\n",
    "    # JSON request body\n",
    "    body = {\n",
    "        \"includedType\": \"restaurant\",  # Restrict to restaurants only\n",
    "        \"strictTypeFiltering\": True,  # Only return results of the specified type\n",
    "        \"textQuery\": query,\n",
    "        \"pageSize\": max_results,  # Specify max results per page\n",
    "        \"pageToken\": page_token,  # Token for the next page of results\n",
    "        \"languageCode\": \"en\",  # Language code for the results\n",
    "    }\n",
    "    # Headers\n",
    "    headers = {\n",
    "        \"Content-Type\": \"application/json\",\n",
    "        \"X-Goog-Api-Key\": api_key,\n",
    "        \"X-Goog-FieldMask\": \"places.name,places.id,places.displayName,nextPageToken\" # to save quota\n",
    "        #\"X-Goog-FieldMask\": \",\".join(field_textsearch) # to get all intersting fields\n",
    "    }\n",
    "    # Send the POST request to the API\n",
    "    response = requests.post(base_url, headers=headers, json=body)\n",
    "    # Check if the request was successful\n",
    "    if response.status_code == 200:\n",
    "        return response.json()\n",
    "    else:\n",
    "        print(\"Error:\", response.status_code, \"Message:\", response.text)"
   ]
  },
  {
   "cell_type": "code",
   "execution_count": 25,
   "metadata": {},
   "outputs": [
    {
     "data": {
      "text/plain": [
       "{'places': [{'name': 'places/ChIJ8WhdiDT7mUcRJ77WT23aNh8',\n",
       "   'id': 'ChIJ8WhdiDT7mUcRJ77WT23aNh8',\n",
       "   'displayName': {'text': 'Köstlich Vegan', 'languageCode': 'de'}},\n",
       "  {'name': 'places/ChIJu9cZ7YvlmUcRRPS7OxAUI6k',\n",
       "   'id': 'ChIJu9cZ7YvlmUcRRPS7OxAUI6k',\n",
       "   'displayName': {'text': 'Spicetripping Foodtruck', 'languageCode': 'de'}},\n",
       "  {'name': 'places/ChIJcQumZc_6mUcRvT91eF5c3rM',\n",
       "   'id': 'ChIJcQumZc_6mUcRvT91eF5c3rM',\n",
       "   'displayName': {'text': 'Bongoroots', 'languageCode': 'en'}},\n",
       "  {'name': 'places/ChIJm7waYdT6mUcRxPFyE982gE0',\n",
       "   'id': 'ChIJm7waYdT6mUcRxPFyE982gE0',\n",
       "   'displayName': {'text': 'Veggi', 'languageCode': 'de'}},\n",
       "  {'name': 'places/ChIJYR6MeNP6mUcRX0PfqXYXqks',\n",
       "   'id': 'ChIJYR6MeNP6mUcRX0PfqXYXqks',\n",
       "   'displayName': {'text': 'Kichererbse', 'languageCode': 'de'}}],\n",
       " 'nextPageToken': 'AdDdOWo_9lmIp8p2HjvB3HvfwiVH6ORVGbDb2CKl4ygwqUhUBQXQ9XcTKuaafOHmnF5cIshJawPa5THYHktd1YMY1tRhujz1u5DR3bTtxUo96rv3bBVbekO6HIp-vZdnorafKAXxxVv13Qkwquap7qIOfYFchAum_mwdu7ipxE9vvjz0n-b8m2RYHaNvqIGIX2PUI3r4Rd2TgK0bhZh-YKiZpRc1LdYLEhEv5nAucc2s5F1Y31IBNfUCsDoUT66uoJ1XK17QkT4'}"
      ]
     },
     "execution_count": 25,
     "metadata": {},
     "output_type": "execute_result"
    }
   ],
   "source": [
    "res = get_places_textsearch(\"spicy vegetarian food in Tübingen\", max_results=5)\n",
    "res"
   ]
  },
  {
   "cell_type": "code",
   "execution_count": 26,
   "metadata": {},
   "outputs": [
    {
     "data": {
      "text/plain": [
       "{'places': [{'name': 'places/ChIJRzFgy-PlmUcRzLsMfKylwKU',\n",
       "   'id': 'ChIJRzFgy-PlmUcRzLsMfKylwKU',\n",
       "   'displayName': {'text': 'Veggie Box', 'languageCode': 'de'}},\n",
       "  {'name': 'places/ChIJ5bNxBdP6mUcRoihNgmDzZl4',\n",
       "   'id': 'ChIJ5bNxBdP6mUcRoihNgmDzZl4',\n",
       "   'displayName': {'text': 'Esszimmer', 'languageCode': 'de'}},\n",
       "  {'name': 'places/ChIJR70z35n7mUcRCflCXpWQqGc',\n",
       "   'id': 'ChIJR70z35n7mUcRCflCXpWQqGc',\n",
       "   'displayName': {'text': 'Restaurant La Médina', 'languageCode': 'de'}},\n",
       "  {'name': 'places/ChIJoyQjbSr7mUcR60G1VPy0I3g',\n",
       "   'id': 'ChIJoyQjbSr7mUcR60G1VPy0I3g',\n",
       "   'displayName': {'text': 'Maharaja Imbiss', 'languageCode': 'de'}},\n",
       "  {'name': 'places/ChIJQfCVYy7lmUcRLciIbQqplJo',\n",
       "   'id': 'ChIJQfCVYy7lmUcRLciIbQqplJo',\n",
       "   'displayName': {'text': 'Restaurant Le Romarin', 'languageCode': 'en'}}],\n",
       " 'nextPageToken': 'AdDdOWr4hP3Z51tRIAiUFBXcqY1xlK9HPgcFxn4ccLXWcAT4n8kHKAv8gVgEP1VHo8m--oIJFrDrlnJZmw10Gh0rD8m5zQpiulESwqc7k7KpUVk8VayHBzNY-r9DiCLQ1vI4n35KlTc1xcOwu_Qwe_e2WqO-zdurDBtCeJ5hT6tgJoEzrEQXl0RSU4MwHWW9J2R31mEcHo25kQ51li0BhJ1Qz-aeS4QpQ0LoT0d2kvuwRYIIhjeyx4VzbtsIj6DpsQFyWAJYLW5SLZ24TErgdZ3UbLD_K4xKk20moRCH18G54tMnLpp_JneclndP_3CkIyEIj0sRKLoYTpT9Ls7ckMCWbBR2w5PGo_7GYvXaJOaYPUrk9MQ4HHHZq6k5HuIlEaD0sP9Q5ik_CS0cn-p0rTHdWW1YQEfOdJda6PfJs9y6Fc_L7Gn_qG3uDfAgKE3sOK_UKntfDucu'}"
      ]
     },
     "execution_count": 26,
     "metadata": {},
     "output_type": "execute_result"
    }
   ],
   "source": [
    "token = res['nextPageToken']\n",
    "res2 = get_places_textsearch(\"spicy vegetarian food in Tübingen\", max_results=5, page_token=token)\n",
    "res2"
   ]
  },
  {
   "cell_type": "markdown",
   "metadata": {},
   "source": [
    "## 3. place details\n",
    "https://developers.google.com/maps/documentation/places/web-service/place-details \n",
    "\n",
    "remeber:  Generate Google Maps link\n",
    "f\"https://www.google.com/maps/place/?q=place_id:{place_id}\"\n",
    "or under 'googleMapsLinks'\\'reviewsUri'"
   ]
  },
  {
   "cell_type": "code",
   "execution_count": 27,
   "metadata": {},
   "outputs": [],
   "source": [
    "field_place_details = [\"id\", \"displayName\", \"name\", \"addressComponents\", \"adrFormatAddress\", \"formattedAddress\",\"location\", \n",
    "                    \"types\", \"accessibilityOptions\", \"businessStatus\", \"containingPlaces\", \"displayName\", \"googleMapsLinks\", \n",
    "                    \"primaryType\", \"primaryTypeDisplayName\", \"pureServiceAreaBusiness\", \"subDestinations\", \"currentOpeningHours\", \n",
    "                    \"nationalPhoneNumber\", \"priceLevel\", \"priceRange\", \"rating\", \"regularOpeningHours\", \"regularSecondaryOpeningHours\", \"userRatingCount\", \n",
    "                    \"websiteUri\",\n",
    "                    \"allowsDogs\", \"curbsidePickup\", \"delivery\", \"dineIn\", \"editorialSummary\", \"evChargeOptions\", \"fuelOptions\", \n",
    "                    \"goodForChildren\", \"goodForGroups\", \"goodForWatchingSports\", \"liveMusic\", \"menuForChildren\", \"parkingOptions\", \n",
    "                    \"paymentOptions\", \"outdoorSeating\", \"reservable\", \"restroom\", \"reviews\", \"servesBeer\", \"servesBreakfast\", \n",
    "                    \"servesBrunch\", \"servesCocktails\", \"servesCoffee\", \"servesDessert\", \"servesDinner\", \"servesLunch\", \n",
    "                    \"servesVegetarianFood\", \"servesWine\", \"takeout\"]\n",
    "\n",
    "def get_place_details(place_id):\n",
    "    # Base URL\n",
    "    base_url = f\"https://places.googleapis.com/v1/places/{place_id}\"\n",
    "    # Query parameters\n",
    "    params = {\n",
    "        \"languageCode\": \"en\"  # This is a query parameter, not a header\n",
    "    }\n",
    "    # Headers\n",
    "    headers = {\n",
    "        \"Content-Type\": \"application/json\",\n",
    "        \"X-Goog-Api-Key\": api_key,\n",
    "        \"X-Goog-FieldMask\": \",\".join(field_place_details) \n",
    "    }\n",
    "    # Send request and capture response\n",
    "    response = requests.get(base_url, headers=headers, params=params)\n",
    "    # Check if the request was successful\n",
    "    if response.status_code == 200:\n",
    "        return response.json()\n",
    "    else:\n",
    "        print(\"Error:\", response.status_code, \"Message:\", response.text)"
   ]
  },
  {
   "cell_type": "code",
   "execution_count": 28,
   "metadata": {},
   "outputs": [
    {
     "data": {
      "text/plain": [
       "{'name': 'places/ChIJGTtrv9P6mUcRtLRexsK4n1E',\n",
       " 'id': 'ChIJGTtrv9P6mUcRtLRexsK4n1E',\n",
       " 'types': ['italian_restaurant',\n",
       "  'restaurant',\n",
       "  'point_of_interest',\n",
       "  'food',\n",
       "  'establishment'],\n",
       " 'nationalPhoneNumber': '07071 25157',\n",
       " 'formattedAddress': 'Bursagasse, 72070 Tübingen, Germany',\n",
       " 'addressComponents': [{'longText': 'Bursagasse',\n",
       "   'shortText': 'Bursagasse',\n",
       "   'types': ['route'],\n",
       "   'languageCode': 'de'},\n",
       "  {'longText': 'Tübingen',\n",
       "   'shortText': 'Tübingen',\n",
       "   'types': ['locality', 'political'],\n",
       "   'languageCode': 'de'},\n",
       "  {'longText': 'Tübingen',\n",
       "   'shortText': 'Tübingen',\n",
       "   'types': ['administrative_area_level_3', 'political'],\n",
       "   'languageCode': 'de'},\n",
       "  {'longText': 'Tübingen',\n",
       "   'shortText': 'TÜ',\n",
       "   'types': ['administrative_area_level_2', 'political'],\n",
       "   'languageCode': 'de'},\n",
       "  {'longText': 'Baden-Württemberg',\n",
       "   'shortText': 'BW',\n",
       "   'types': ['administrative_area_level_1', 'political'],\n",
       "   'languageCode': 'de'},\n",
       "  {'longText': 'Germany',\n",
       "   'shortText': 'DE',\n",
       "   'types': ['country', 'political'],\n",
       "   'languageCode': 'en'},\n",
       "  {'longText': '72070',\n",
       "   'shortText': '72070',\n",
       "   'types': ['postal_code'],\n",
       "   'languageCode': 'en'}],\n",
       " 'location': {'latitude': 48.5198274, 'longitude': 9.0566053},\n",
       " 'rating': 4.3,\n",
       " 'websiteUri': 'http://www.aldente-pino.de/',\n",
       " 'regularOpeningHours': {'openNow': False,\n",
       "  'periods': [{'open': {'day': 2, 'hour': 11, 'minute': 0},\n",
       "    'close': {'day': 2, 'hour': 14, 'minute': 30}},\n",
       "   {'open': {'day': 2, 'hour': 17, 'minute': 0},\n",
       "    'close': {'day': 2, 'hour': 22, 'minute': 30}},\n",
       "   {'open': {'day': 3, 'hour': 11, 'minute': 0},\n",
       "    'close': {'day': 3, 'hour': 14, 'minute': 30}},\n",
       "   {'open': {'day': 3, 'hour': 17, 'minute': 0},\n",
       "    'close': {'day': 3, 'hour': 22, 'minute': 30}},\n",
       "   {'open': {'day': 4, 'hour': 11, 'minute': 0},\n",
       "    'close': {'day': 4, 'hour': 14, 'minute': 30}},\n",
       "   {'open': {'day': 4, 'hour': 17, 'minute': 0},\n",
       "    'close': {'day': 4, 'hour': 22, 'minute': 30}},\n",
       "   {'open': {'day': 5, 'hour': 11, 'minute': 0},\n",
       "    'close': {'day': 5, 'hour': 14, 'minute': 30}},\n",
       "   {'open': {'day': 5, 'hour': 17, 'minute': 0},\n",
       "    'close': {'day': 5, 'hour': 22, 'minute': 30}},\n",
       "   {'open': {'day': 6, 'hour': 11, 'minute': 0},\n",
       "    'close': {'day': 6, 'hour': 14, 'minute': 30}},\n",
       "   {'open': {'day': 6, 'hour': 17, 'minute': 0},\n",
       "    'close': {'day': 6, 'hour': 22, 'minute': 30}}],\n",
       "  'weekdayDescriptions': ['Monday: Closed',\n",
       "   'Tuesday: 11:00\\u202fAM\\u2009–\\u20092:30\\u202fPM, 5:00\\u2009–\\u200910:30\\u202fPM',\n",
       "   'Wednesday: 11:00\\u202fAM\\u2009–\\u20092:30\\u202fPM, 5:00\\u2009–\\u200910:30\\u202fPM',\n",
       "   'Thursday: 11:00\\u202fAM\\u2009–\\u20092:30\\u202fPM, 5:00\\u2009–\\u200910:30\\u202fPM',\n",
       "   'Friday: 11:00\\u202fAM\\u2009–\\u20092:30\\u202fPM, 5:00\\u2009–\\u200910:30\\u202fPM',\n",
       "   'Saturday: 11:00\\u202fAM\\u2009–\\u20092:30\\u202fPM, 5:00\\u2009–\\u200910:30\\u202fPM',\n",
       "   'Sunday: Closed'],\n",
       "  'nextOpenTime': '2024-12-04T10:00:00Z'},\n",
       " 'adrFormatAddress': '<span class=\"street-address\">Bursagasse</span>, <span class=\"postal-code\">72070</span> <span class=\"locality\">Tübingen</span>, <span class=\"country-name\">Germany</span>',\n",
       " 'businessStatus': 'OPERATIONAL',\n",
       " 'priceLevel': 'PRICE_LEVEL_MODERATE',\n",
       " 'userRatingCount': 588,\n",
       " 'displayName': {'text': 'Al Dente', 'languageCode': 'de'},\n",
       " 'primaryTypeDisplayName': {'text': 'Italian restaurant',\n",
       "  'languageCode': 'en'},\n",
       " 'takeout': True,\n",
       " 'delivery': True,\n",
       " 'dineIn': True,\n",
       " 'reservable': True,\n",
       " 'servesBreakfast': False,\n",
       " 'servesLunch': True,\n",
       " 'servesDinner': True,\n",
       " 'servesBeer': True,\n",
       " 'servesWine': True,\n",
       " 'servesBrunch': False,\n",
       " 'currentOpeningHours': {'openNow': False,\n",
       "  'periods': [{'open': {'day': 2,\n",
       "     'hour': 11,\n",
       "     'minute': 0,\n",
       "     'date': {'year': 2024, 'month': 12, 'day': 10}},\n",
       "    'close': {'day': 2,\n",
       "     'hour': 14,\n",
       "     'minute': 30,\n",
       "     'date': {'year': 2024, 'month': 12, 'day': 10}}},\n",
       "   {'open': {'day': 2,\n",
       "     'hour': 17,\n",
       "     'minute': 0,\n",
       "     'date': {'year': 2024, 'month': 12, 'day': 10}},\n",
       "    'close': {'day': 2,\n",
       "     'hour': 22,\n",
       "     'minute': 30,\n",
       "     'date': {'year': 2024, 'month': 12, 'day': 10}}},\n",
       "   {'open': {'day': 3,\n",
       "     'hour': 11,\n",
       "     'minute': 0,\n",
       "     'date': {'year': 2024, 'month': 12, 'day': 4}},\n",
       "    'close': {'day': 3,\n",
       "     'hour': 14,\n",
       "     'minute': 30,\n",
       "     'date': {'year': 2024, 'month': 12, 'day': 4}}},\n",
       "   {'open': {'day': 3,\n",
       "     'hour': 17,\n",
       "     'minute': 0,\n",
       "     'date': {'year': 2024, 'month': 12, 'day': 4}},\n",
       "    'close': {'day': 3,\n",
       "     'hour': 22,\n",
       "     'minute': 30,\n",
       "     'date': {'year': 2024, 'month': 12, 'day': 4}}},\n",
       "   {'open': {'day': 4,\n",
       "     'hour': 11,\n",
       "     'minute': 0,\n",
       "     'date': {'year': 2024, 'month': 12, 'day': 5}},\n",
       "    'close': {'day': 4,\n",
       "     'hour': 14,\n",
       "     'minute': 30,\n",
       "     'date': {'year': 2024, 'month': 12, 'day': 5}}},\n",
       "   {'open': {'day': 4,\n",
       "     'hour': 17,\n",
       "     'minute': 0,\n",
       "     'date': {'year': 2024, 'month': 12, 'day': 5}},\n",
       "    'close': {'day': 4,\n",
       "     'hour': 22,\n",
       "     'minute': 30,\n",
       "     'date': {'year': 2024, 'month': 12, 'day': 5}}},\n",
       "   {'open': {'day': 5,\n",
       "     'hour': 11,\n",
       "     'minute': 0,\n",
       "     'date': {'year': 2024, 'month': 12, 'day': 6}},\n",
       "    'close': {'day': 5,\n",
       "     'hour': 14,\n",
       "     'minute': 30,\n",
       "     'date': {'year': 2024, 'month': 12, 'day': 6}}},\n",
       "   {'open': {'day': 5,\n",
       "     'hour': 17,\n",
       "     'minute': 0,\n",
       "     'date': {'year': 2024, 'month': 12, 'day': 6}},\n",
       "    'close': {'day': 5,\n",
       "     'hour': 22,\n",
       "     'minute': 30,\n",
       "     'date': {'year': 2024, 'month': 12, 'day': 6}}},\n",
       "   {'open': {'day': 6,\n",
       "     'hour': 11,\n",
       "     'minute': 0,\n",
       "     'date': {'year': 2024, 'month': 12, 'day': 7}},\n",
       "    'close': {'day': 6,\n",
       "     'hour': 14,\n",
       "     'minute': 30,\n",
       "     'date': {'year': 2024, 'month': 12, 'day': 7}}},\n",
       "   {'open': {'day': 6,\n",
       "     'hour': 17,\n",
       "     'minute': 0,\n",
       "     'date': {'year': 2024, 'month': 12, 'day': 7}},\n",
       "    'close': {'day': 6,\n",
       "     'hour': 22,\n",
       "     'minute': 30,\n",
       "     'date': {'year': 2024, 'month': 12, 'day': 7}}}],\n",
       "  'weekdayDescriptions': ['Monday: Closed',\n",
       "   'Tuesday: 11:00\\u202fAM\\u2009–\\u20092:30\\u202fPM, 5:00\\u2009–\\u200910:30\\u202fPM',\n",
       "   'Wednesday: 11:00\\u202fAM\\u2009–\\u20092:30\\u202fPM, 5:00\\u2009–\\u200910:30\\u202fPM',\n",
       "   'Thursday: 11:00\\u202fAM\\u2009–\\u20092:30\\u202fPM, 5:00\\u2009–\\u200910:30\\u202fPM',\n",
       "   'Friday: 11:00\\u202fAM\\u2009–\\u20092:30\\u202fPM, 5:00\\u2009–\\u200910:30\\u202fPM',\n",
       "   'Saturday: 11:00\\u202fAM\\u2009–\\u20092:30\\u202fPM, 5:00\\u2009–\\u200910:30\\u202fPM',\n",
       "   'Sunday: Closed'],\n",
       "  'nextOpenTime': '2024-12-04T10:00:00Z'},\n",
       " 'primaryType': 'italian_restaurant',\n",
       " 'editorialSummary': {'text': 'Atmospheric vaulted venue with bare-stone walls, serving pizza & pasta, plus Italian mains & wines.',\n",
       "  'languageCode': 'en'},\n",
       " 'reviews': [{'name': 'places/ChIJGTtrv9P6mUcRtLRexsK4n1E/reviews/ChZDSUhNMG9nS0VJQ0FnSUNic2FMdWVREAE',\n",
       "   'relativePublishTimeDescription': '4 months ago',\n",
       "   'rating': 5,\n",
       "   'text': {'text': 'Flavorful, high quality, wide choice, nice presentation and excellent wine served by a super kind Italian speaking man with seats on steps of a sloped tiny street.',\n",
       "    'languageCode': 'en'},\n",
       "   'originalText': {'text': 'Flavorful, high quality, wide choice, nice presentation and excellent wine served by a super kind Italian speaking man with seats on steps of a sloped tiny street.',\n",
       "    'languageCode': 'en'},\n",
       "   'authorAttribution': {'displayName': 'Niloo',\n",
       "    'uri': 'https://www.google.com/maps/contrib/106386058085516727024/reviews',\n",
       "    'photoUri': 'https://lh3.googleusercontent.com/a-/ALV-UjWbKv7jTigQPjWDjtZZmJlOluZkuPN1_n7SQmSuk4Z5FS0F2533=s128-c0x00000000-cc-rp-mo'},\n",
       "   'publishTime': '2024-07-28T09:16:24.998606Z',\n",
       "   'flagContentUri': 'https://www.google.com/local/review/rap/report?postId=ChZDSUhNMG9nS0VJQ0FnSUNic2FMdWVREAE&d=17924085&t=1',\n",
       "   'googleMapsUri': 'https://www.google.com/maps/reviews/data=!4m6!14m5!1m4!2m3!1sChZDSUhNMG9nS0VJQ0FnSUNic2FMdWVREAE!2m1!1s0x4799fad3bf6b3b19:0x519fb8c2c65eb4b4'},\n",
       "  {'name': 'places/ChIJGTtrv9P6mUcRtLRexsK4n1E/reviews/ChZDSUhNMG9nS0VJQ0FnSUQ1eXBiTFJBEAE',\n",
       "   'relativePublishTimeDescription': 'a year ago',\n",
       "   'rating': 4,\n",
       "   'text': {'text': \"Very cozy and interesting place to go.\\nFood was good and tasty.\\nMy mozzarella salade came on a huge plate, one might consider it a whole meal.\\nVery big portion 😀!\\nThe pizza was tasty and not too oily.\\nThe lady serving us was very kind and even refilled my glass several times.\\nShe also gave us a lot of info on the food.\\nVery good service!\\nThe dessert was very good too!\\nThe only thing I didn't like is the atmosphere where the interior is so small.\\nI hit my chair several times with another guy's chair behind me.\\nBut overall pretty good 😊, give it a try 👍\",\n",
       "    'languageCode': 'en'},\n",
       "   'originalText': {'text': \"Very cozy and interesting place to go.\\nFood was good and tasty.\\nMy mozzarella salade came on a huge plate, one might consider it a whole meal.\\nVery big portion 😀!\\nThe pizza was tasty and not too oily.\\nThe lady serving us was very kind and even refilled my glass several times.\\nShe also gave us a lot of info on the food.\\nVery good service!\\nThe dessert was very good too!\\nThe only thing I didn't like is the atmosphere where the interior is so small.\\nI hit my chair several times with another guy's chair behind me.\\nBut overall pretty good 😊, give it a try 👍\",\n",
       "    'languageCode': 'en'},\n",
       "   'authorAttribution': {'displayName': 'Jameel Afaq Mughal',\n",
       "    'uri': 'https://www.google.com/maps/contrib/114537967505662387010/reviews',\n",
       "    'photoUri': 'https://lh3.googleusercontent.com/a/ACg8ocKHcbdV3ErueMCQJJrTFN0dyUPZjtoHBSRocS1IXosLe8rJLNA=s128-c0x00000000-cc-rp-mo-ba3'},\n",
       "   'publishTime': '2023-10-22T14:23:38.225376Z',\n",
       "   'flagContentUri': 'https://www.google.com/local/review/rap/report?postId=ChZDSUhNMG9nS0VJQ0FnSUQ1eXBiTFJBEAE&d=17924085&t=1',\n",
       "   'googleMapsUri': 'https://www.google.com/maps/reviews/data=!4m6!14m5!1m4!2m3!1sChZDSUhNMG9nS0VJQ0FnSUQ1eXBiTFJBEAE!2m1!1s0x4799fad3bf6b3b19:0x519fb8c2c65eb4b4'},\n",
       "  {'name': 'places/ChIJGTtrv9P6mUcRtLRexsK4n1E/reviews/ChZDSUhNMG9nS0VJQ0FnSUNNeDlMdkJREAE',\n",
       "   'relativePublishTimeDescription': '4 years ago',\n",
       "   'rating': 4,\n",
       "   'text': {'text': \"A nice little Italian restaurant in the city center. One cannot reserve the place here, just walk and mostly you should find a place. It's a old building have 2 floors, which goes under the ground, thus do not have windows there. The first floor or entrace is very small and does have a window facing towards the pedestrian zone. Though Necker is very close by, there is no view of the same.\",\n",
       "    'languageCode': 'en'},\n",
       "   'originalText': {'text': \"A nice little Italian restaurant in the city center. One cannot reserve the place here, just walk and mostly you should find a place. It's a old building have 2 floors, which goes under the ground, thus do not have windows there. The first floor or entrace is very small and does have a window facing towards the pedestrian zone. Though Necker is very close by, there is no view of the same.\",\n",
       "    'languageCode': 'en'},\n",
       "   'authorAttribution': {'displayName': 'DEEPU V S',\n",
       "    'uri': 'https://www.google.com/maps/contrib/100683455655122001971/reviews',\n",
       "    'photoUri': 'https://lh3.googleusercontent.com/a-/ALV-UjXPIAYB7ipVmA9lpC5QjobS7r7Pvna0ZvNXFr0QOD0tESw62SD28A=s128-c0x00000000-cc-rp-mo-ba5'},\n",
       "   'publishTime': '2019-12-08T08:38:08.457082Z',\n",
       "   'flagContentUri': 'https://www.google.com/local/review/rap/report?postId=ChZDSUhNMG9nS0VJQ0FnSUNNeDlMdkJREAE&d=17924085&t=1',\n",
       "   'googleMapsUri': 'https://www.google.com/maps/reviews/data=!4m6!14m5!1m4!2m3!1sChZDSUhNMG9nS0VJQ0FnSUNNeDlMdkJREAE!2m1!1s0x4799fad3bf6b3b19:0x519fb8c2c65eb4b4'},\n",
       "  {'name': 'places/ChIJGTtrv9P6mUcRtLRexsK4n1E/reviews/ChZDSUhNMG9nS0VJQ0FnSURqbHRHdk5BEAE',\n",
       "   'relativePublishTimeDescription': '7 months ago',\n",
       "   'rating': 4,\n",
       "   'text': {'text': 'Pretty good pizza for Germany. Good base with a good level of charring around the edge and leoparding on bottom, but flavour combinations a bit teutonic for my taste.  Excellent service though delivered in a mix of Italian and German, and a very nice atmosphere.',\n",
       "    'languageCode': 'en'},\n",
       "   'originalText': {'text': 'Pretty good pizza for Germany. Good base with a good level of charring around the edge and leoparding on bottom, but flavour combinations a bit teutonic for my taste.  Excellent service though delivered in a mix of Italian and German, and a very nice atmosphere.',\n",
       "    'languageCode': 'en'},\n",
       "   'authorAttribution': {'displayName': 'Eric Hartley',\n",
       "    'uri': 'https://www.google.com/maps/contrib/110860957520593641177/reviews',\n",
       "    'photoUri': 'https://lh3.googleusercontent.com/a-/ALV-UjUs365QRCQNt3WaXf-65cibH0hdZC2qKa7b98itdpiYdxQ03K0xPQ=s128-c0x00000000-cc-rp-mo-ba3'},\n",
       "   'publishTime': '2024-05-02T19:30:21.801709Z',\n",
       "   'flagContentUri': 'https://www.google.com/local/review/rap/report?postId=ChZDSUhNMG9nS0VJQ0FnSURqbHRHdk5BEAE&d=17924085&t=1',\n",
       "   'googleMapsUri': 'https://www.google.com/maps/reviews/data=!4m6!14m5!1m4!2m3!1sChZDSUhNMG9nS0VJQ0FnSURqbHRHdk5BEAE!2m1!1s0x4799fad3bf6b3b19:0x519fb8c2c65eb4b4'},\n",
       "  {'name': 'places/ChIJGTtrv9P6mUcRtLRexsK4n1E/reviews/ChZDSUhNMG9nS0VJQ0FnSUQ2LWZhX2ZBEAE',\n",
       "   'relativePublishTimeDescription': '3 years ago',\n",
       "   'rating': 5,\n",
       "   'text': {'text': 'I very much enjoyed this restaurant. This was a lunch outing. I always love an opportunity to speak Italian and enjoy Italian food.',\n",
       "    'languageCode': 'en'},\n",
       "   'originalText': {'text': 'I very much enjoyed this restaurant. This was a lunch outing. I always love an opportunity to speak Italian and enjoy Italian food.',\n",
       "    'languageCode': 'en'},\n",
       "   'authorAttribution': {'displayName': 'Adriana Y',\n",
       "    'uri': 'https://www.google.com/maps/contrib/117133965435136040543/reviews',\n",
       "    'photoUri': 'https://lh3.googleusercontent.com/a-/ALV-UjVZlnE2Za95arJkvAi0gsJdHor3W0ulhsnLMLWHuPchXP_aFuI=s128-c0x00000000-cc-rp-mo-ba6'},\n",
       "   'publishTime': '2021-10-05T05:30:40.400419Z',\n",
       "   'flagContentUri': 'https://www.google.com/local/review/rap/report?postId=ChZDSUhNMG9nS0VJQ0FnSUQ2LWZhX2ZBEAE&d=17924085&t=1',\n",
       "   'googleMapsUri': 'https://www.google.com/maps/reviews/data=!4m6!14m5!1m4!2m3!1sChZDSUhNMG9nS0VJQ0FnSUQ2LWZhX2ZBEAE!2m1!1s0x4799fad3bf6b3b19:0x519fb8c2c65eb4b4'}],\n",
       " 'outdoorSeating': True,\n",
       " 'liveMusic': False,\n",
       " 'menuForChildren': False,\n",
       " 'servesDessert': True,\n",
       " 'servesCoffee': True,\n",
       " 'goodForChildren': True,\n",
       " 'restroom': True,\n",
       " 'goodForGroups': True,\n",
       " 'goodForWatchingSports': False,\n",
       " 'paymentOptions': {'acceptsCreditCards': True,\n",
       "  'acceptsDebitCards': True,\n",
       "  'acceptsCashOnly': False,\n",
       "  'acceptsNfc': True},\n",
       " 'accessibilityOptions': {'wheelchairAccessibleParking': False,\n",
       "  'wheelchairAccessibleRestroom': False},\n",
       " 'pureServiceAreaBusiness': False,\n",
       " 'googleMapsLinks': {'directionsUri': \"https://www.google.com/maps/dir//''/data=!4m7!4m6!1m1!4e2!1m2!1m1!1s0x4799fad3bf6b3b19:0x519fb8c2c65eb4b4!3e0\",\n",
       "  'placeUri': 'https://maps.google.com/?cid=5881622785060418740',\n",
       "  'writeAReviewUri': 'https://www.google.com/maps/place//data=!4m3!3m2!1s0x4799fad3bf6b3b19:0x519fb8c2c65eb4b4!12e1',\n",
       "  'reviewsUri': 'https://www.google.com/maps/place//data=!4m4!3m3!1s0x4799fad3bf6b3b19:0x519fb8c2c65eb4b4!9m1!1b1',\n",
       "  'photosUri': 'https://www.google.com/maps/place//data=!4m3!3m2!1s0x4799fad3bf6b3b19:0x519fb8c2c65eb4b4!10e5'},\n",
       " 'priceRange': {'startPrice': {'currencyCode': 'EUR', 'units': '20'},\n",
       "  'endPrice': {'currencyCode': 'EUR', 'units': '30'}}}"
      ]
     },
     "execution_count": 28,
     "metadata": {},
     "output_type": "execute_result"
    }
   ],
   "source": [
    "details = get_place_details(\"ChIJGTtrv9P6mUcRtLRexsK4n1E\")\n",
    "details"
   ]
  },
  {
   "cell_type": "markdown",
   "metadata": {},
   "source": [
    "# Get the data for one city"
   ]
  },
  {
   "cell_type": "markdown",
   "metadata": {},
   "source": [
    "## 1. Get city boundaries and perform a grid"
   ]
  },
  {
   "cell_type": "code",
   "execution_count": 29,
   "metadata": {},
   "outputs": [],
   "source": [
    "# Function to get the city boundaries\n",
    "def get_city_boundaries(city_name):\n",
    "    # Initialize the Google Maps client\n",
    "    gmaps = googlemaps.Client(key=api_key) # googlemaps package\n",
    "    \n",
    "    # Get the city boundaries\n",
    "    geocode_result = gmaps.geocode(city_name)\n",
    "\n",
    "    # save the boundaries\n",
    "    low_lat = geocode_result[0]['geometry']['bounds']['southwest']['lat']\n",
    "    low_long = geocode_result[0]['geometry']['bounds']['southwest']['lng']\n",
    "    high_lat = geocode_result[0]['geometry']['bounds']['northeast']['lat']\n",
    "    high_long = geocode_result[0]['geometry']['bounds']['northeast']['lng']\n",
    "\n",
    "    \n",
    "    return low_lat, low_long, high_lat, high_long"
   ]
  },
  {
   "cell_type": "code",
   "execution_count": 30,
   "metadata": {},
   "outputs": [
    {
     "name": "stdout",
     "output_type": "stream",
     "text": [
      "(48.4505798, 8.9644852, 48.5937085, 9.131081600000002)\n"
     ]
    }
   ],
   "source": [
    "tueb_bound = get_city_boundaries('Tübingen')\n",
    "print(tueb_bound)"
   ]
  },
  {
   "cell_type": "code",
   "execution_count": 31,
   "metadata": {},
   "outputs": [],
   "source": [
    "# Function to divide the city into a grid\n",
    "def divide_area_in_grid(boundary, step_size = 0.01):\n",
    "    low_lat, low_long, high_lat, high_long = boundary\n",
    "    grid = []\n",
    "    lat = low_lat\n",
    "    while lat < high_lat:\n",
    "        long = low_long\n",
    "        while long < high_long:\n",
    "            cell = (lat, long, min(lat + step_size, high_lat), min(long + step_size, high_long))\n",
    "            grid.append(cell)\n",
    "            long += step_size\n",
    "        lat += step_size\n",
    "    return grid"
   ]
  },
  {
   "cell_type": "code",
   "execution_count": 32,
   "metadata": {},
   "outputs": [
    {
     "name": "stdout",
     "output_type": "stream",
     "text": [
      "255\n",
      "[(48.4505798, 8.9644852, 48.4605798, 8.9744852), (48.4505798, 8.9744852, 48.4605798, 8.9844852), (48.4505798, 8.9844852, 48.4605798, 8.9944852), (48.4505798, 8.9944852, 48.4605798, 9.0044852), (48.4505798, 9.0044852, 48.4605798, 9.0144852), (48.4505798, 9.0144852, 48.4605798, 9.024485199999999), (48.4505798, 9.024485199999999, 48.4605798, 9.034485199999999), (48.4505798, 9.034485199999999, 48.4605798, 9.044485199999999), (48.4505798, 9.044485199999999, 48.4605798, 9.054485199999998), (48.4505798, 9.054485199999998, 48.4605798, 9.064485199999998), (48.4505798, 9.064485199999998, 48.4605798, 9.074485199999998), (48.4505798, 9.074485199999998, 48.4605798, 9.084485199999998), (48.4505798, 9.084485199999998, 48.4605798, 9.094485199999998), (48.4505798, 9.094485199999998, 48.4605798, 9.104485199999997), (48.4505798, 9.104485199999997, 48.4605798, 9.114485199999997), (48.4505798, 9.114485199999997, 48.4605798, 9.124485199999997), (48.4505798, 9.124485199999997, 48.4605798, 9.131081600000002), (48.4605798, 8.9644852, 48.470579799999996, 8.9744852), (48.4605798, 8.9744852, 48.470579799999996, 8.9844852), (48.4605798, 8.9844852, 48.470579799999996, 8.9944852), (48.4605798, 8.9944852, 48.470579799999996, 9.0044852), (48.4605798, 9.0044852, 48.470579799999996, 9.0144852), (48.4605798, 9.0144852, 48.470579799999996, 9.024485199999999), (48.4605798, 9.024485199999999, 48.470579799999996, 9.034485199999999), (48.4605798, 9.034485199999999, 48.470579799999996, 9.044485199999999), (48.4605798, 9.044485199999999, 48.470579799999996, 9.054485199999998), (48.4605798, 9.054485199999998, 48.470579799999996, 9.064485199999998), (48.4605798, 9.064485199999998, 48.470579799999996, 9.074485199999998), (48.4605798, 9.074485199999998, 48.470579799999996, 9.084485199999998), (48.4605798, 9.084485199999998, 48.470579799999996, 9.094485199999998), (48.4605798, 9.094485199999998, 48.470579799999996, 9.104485199999997), (48.4605798, 9.104485199999997, 48.470579799999996, 9.114485199999997), (48.4605798, 9.114485199999997, 48.470579799999996, 9.124485199999997), (48.4605798, 9.124485199999997, 48.470579799999996, 9.131081600000002), (48.470579799999996, 8.9644852, 48.480579799999994, 8.9744852), (48.470579799999996, 8.9744852, 48.480579799999994, 8.9844852), (48.470579799999996, 8.9844852, 48.480579799999994, 8.9944852), (48.470579799999996, 8.9944852, 48.480579799999994, 9.0044852), (48.470579799999996, 9.0044852, 48.480579799999994, 9.0144852), (48.470579799999996, 9.0144852, 48.480579799999994, 9.024485199999999), (48.470579799999996, 9.024485199999999, 48.480579799999994, 9.034485199999999), (48.470579799999996, 9.034485199999999, 48.480579799999994, 9.044485199999999), (48.470579799999996, 9.044485199999999, 48.480579799999994, 9.054485199999998), (48.470579799999996, 9.054485199999998, 48.480579799999994, 9.064485199999998), (48.470579799999996, 9.064485199999998, 48.480579799999994, 9.074485199999998), (48.470579799999996, 9.074485199999998, 48.480579799999994, 9.084485199999998), (48.470579799999996, 9.084485199999998, 48.480579799999994, 9.094485199999998), (48.470579799999996, 9.094485199999998, 48.480579799999994, 9.104485199999997), (48.470579799999996, 9.104485199999997, 48.480579799999994, 9.114485199999997), (48.470579799999996, 9.114485199999997, 48.480579799999994, 9.124485199999997), (48.470579799999996, 9.124485199999997, 48.480579799999994, 9.131081600000002), (48.480579799999994, 8.9644852, 48.49057979999999, 8.9744852), (48.480579799999994, 8.9744852, 48.49057979999999, 8.9844852), (48.480579799999994, 8.9844852, 48.49057979999999, 8.9944852), (48.480579799999994, 8.9944852, 48.49057979999999, 9.0044852), (48.480579799999994, 9.0044852, 48.49057979999999, 9.0144852), (48.480579799999994, 9.0144852, 48.49057979999999, 9.024485199999999), (48.480579799999994, 9.024485199999999, 48.49057979999999, 9.034485199999999), (48.480579799999994, 9.034485199999999, 48.49057979999999, 9.044485199999999), (48.480579799999994, 9.044485199999999, 48.49057979999999, 9.054485199999998), (48.480579799999994, 9.054485199999998, 48.49057979999999, 9.064485199999998), (48.480579799999994, 9.064485199999998, 48.49057979999999, 9.074485199999998), (48.480579799999994, 9.074485199999998, 48.49057979999999, 9.084485199999998), (48.480579799999994, 9.084485199999998, 48.49057979999999, 9.094485199999998), (48.480579799999994, 9.094485199999998, 48.49057979999999, 9.104485199999997), (48.480579799999994, 9.104485199999997, 48.49057979999999, 9.114485199999997), (48.480579799999994, 9.114485199999997, 48.49057979999999, 9.124485199999997), (48.480579799999994, 9.124485199999997, 48.49057979999999, 9.131081600000002), (48.49057979999999, 8.9644852, 48.50057979999999, 8.9744852), (48.49057979999999, 8.9744852, 48.50057979999999, 8.9844852), (48.49057979999999, 8.9844852, 48.50057979999999, 8.9944852), (48.49057979999999, 8.9944852, 48.50057979999999, 9.0044852), (48.49057979999999, 9.0044852, 48.50057979999999, 9.0144852), (48.49057979999999, 9.0144852, 48.50057979999999, 9.024485199999999), (48.49057979999999, 9.024485199999999, 48.50057979999999, 9.034485199999999), (48.49057979999999, 9.034485199999999, 48.50057979999999, 9.044485199999999), (48.49057979999999, 9.044485199999999, 48.50057979999999, 9.054485199999998), (48.49057979999999, 9.054485199999998, 48.50057979999999, 9.064485199999998), (48.49057979999999, 9.064485199999998, 48.50057979999999, 9.074485199999998), (48.49057979999999, 9.074485199999998, 48.50057979999999, 9.084485199999998), (48.49057979999999, 9.084485199999998, 48.50057979999999, 9.094485199999998), (48.49057979999999, 9.094485199999998, 48.50057979999999, 9.104485199999997), (48.49057979999999, 9.104485199999997, 48.50057979999999, 9.114485199999997), (48.49057979999999, 9.114485199999997, 48.50057979999999, 9.124485199999997), (48.49057979999999, 9.124485199999997, 48.50057979999999, 9.131081600000002), (48.50057979999999, 8.9644852, 48.51057979999999, 8.9744852), (48.50057979999999, 8.9744852, 48.51057979999999, 8.9844852), (48.50057979999999, 8.9844852, 48.51057979999999, 8.9944852), (48.50057979999999, 8.9944852, 48.51057979999999, 9.0044852), (48.50057979999999, 9.0044852, 48.51057979999999, 9.0144852), (48.50057979999999, 9.0144852, 48.51057979999999, 9.024485199999999), (48.50057979999999, 9.024485199999999, 48.51057979999999, 9.034485199999999), (48.50057979999999, 9.034485199999999, 48.51057979999999, 9.044485199999999), (48.50057979999999, 9.044485199999999, 48.51057979999999, 9.054485199999998), (48.50057979999999, 9.054485199999998, 48.51057979999999, 9.064485199999998), (48.50057979999999, 9.064485199999998, 48.51057979999999, 9.074485199999998), (48.50057979999999, 9.074485199999998, 48.51057979999999, 9.084485199999998), (48.50057979999999, 9.084485199999998, 48.51057979999999, 9.094485199999998), (48.50057979999999, 9.094485199999998, 48.51057979999999, 9.104485199999997), (48.50057979999999, 9.104485199999997, 48.51057979999999, 9.114485199999997), (48.50057979999999, 9.114485199999997, 48.51057979999999, 9.124485199999997), (48.50057979999999, 9.124485199999997, 48.51057979999999, 9.131081600000002), (48.51057979999999, 8.9644852, 48.520579799999986, 8.9744852), (48.51057979999999, 8.9744852, 48.520579799999986, 8.9844852), (48.51057979999999, 8.9844852, 48.520579799999986, 8.9944852), (48.51057979999999, 8.9944852, 48.520579799999986, 9.0044852), (48.51057979999999, 9.0044852, 48.520579799999986, 9.0144852), (48.51057979999999, 9.0144852, 48.520579799999986, 9.024485199999999), (48.51057979999999, 9.024485199999999, 48.520579799999986, 9.034485199999999), (48.51057979999999, 9.034485199999999, 48.520579799999986, 9.044485199999999), (48.51057979999999, 9.044485199999999, 48.520579799999986, 9.054485199999998), (48.51057979999999, 9.054485199999998, 48.520579799999986, 9.064485199999998), (48.51057979999999, 9.064485199999998, 48.520579799999986, 9.074485199999998), (48.51057979999999, 9.074485199999998, 48.520579799999986, 9.084485199999998), (48.51057979999999, 9.084485199999998, 48.520579799999986, 9.094485199999998), (48.51057979999999, 9.094485199999998, 48.520579799999986, 9.104485199999997), (48.51057979999999, 9.104485199999997, 48.520579799999986, 9.114485199999997), (48.51057979999999, 9.114485199999997, 48.520579799999986, 9.124485199999997), (48.51057979999999, 9.124485199999997, 48.520579799999986, 9.131081600000002), (48.520579799999986, 8.9644852, 48.530579799999984, 8.9744852), (48.520579799999986, 8.9744852, 48.530579799999984, 8.9844852), (48.520579799999986, 8.9844852, 48.530579799999984, 8.9944852), (48.520579799999986, 8.9944852, 48.530579799999984, 9.0044852), (48.520579799999986, 9.0044852, 48.530579799999984, 9.0144852), (48.520579799999986, 9.0144852, 48.530579799999984, 9.024485199999999), (48.520579799999986, 9.024485199999999, 48.530579799999984, 9.034485199999999), (48.520579799999986, 9.034485199999999, 48.530579799999984, 9.044485199999999), (48.520579799999986, 9.044485199999999, 48.530579799999984, 9.054485199999998), (48.520579799999986, 9.054485199999998, 48.530579799999984, 9.064485199999998), (48.520579799999986, 9.064485199999998, 48.530579799999984, 9.074485199999998), (48.520579799999986, 9.074485199999998, 48.530579799999984, 9.084485199999998), (48.520579799999986, 9.084485199999998, 48.530579799999984, 9.094485199999998), (48.520579799999986, 9.094485199999998, 48.530579799999984, 9.104485199999997), (48.520579799999986, 9.104485199999997, 48.530579799999984, 9.114485199999997), (48.520579799999986, 9.114485199999997, 48.530579799999984, 9.124485199999997), (48.520579799999986, 9.124485199999997, 48.530579799999984, 9.131081600000002), (48.530579799999984, 8.9644852, 48.54057979999998, 8.9744852), (48.530579799999984, 8.9744852, 48.54057979999998, 8.9844852), (48.530579799999984, 8.9844852, 48.54057979999998, 8.9944852), (48.530579799999984, 8.9944852, 48.54057979999998, 9.0044852), (48.530579799999984, 9.0044852, 48.54057979999998, 9.0144852), (48.530579799999984, 9.0144852, 48.54057979999998, 9.024485199999999), (48.530579799999984, 9.024485199999999, 48.54057979999998, 9.034485199999999), (48.530579799999984, 9.034485199999999, 48.54057979999998, 9.044485199999999), (48.530579799999984, 9.044485199999999, 48.54057979999998, 9.054485199999998), (48.530579799999984, 9.054485199999998, 48.54057979999998, 9.064485199999998), (48.530579799999984, 9.064485199999998, 48.54057979999998, 9.074485199999998), (48.530579799999984, 9.074485199999998, 48.54057979999998, 9.084485199999998), (48.530579799999984, 9.084485199999998, 48.54057979999998, 9.094485199999998), (48.530579799999984, 9.094485199999998, 48.54057979999998, 9.104485199999997), (48.530579799999984, 9.104485199999997, 48.54057979999998, 9.114485199999997), (48.530579799999984, 9.114485199999997, 48.54057979999998, 9.124485199999997), (48.530579799999984, 9.124485199999997, 48.54057979999998, 9.131081600000002), (48.54057979999998, 8.9644852, 48.55057979999998, 8.9744852), (48.54057979999998, 8.9744852, 48.55057979999998, 8.9844852), (48.54057979999998, 8.9844852, 48.55057979999998, 8.9944852), (48.54057979999998, 8.9944852, 48.55057979999998, 9.0044852), (48.54057979999998, 9.0044852, 48.55057979999998, 9.0144852), (48.54057979999998, 9.0144852, 48.55057979999998, 9.024485199999999), (48.54057979999998, 9.024485199999999, 48.55057979999998, 9.034485199999999), (48.54057979999998, 9.034485199999999, 48.55057979999998, 9.044485199999999), (48.54057979999998, 9.044485199999999, 48.55057979999998, 9.054485199999998), (48.54057979999998, 9.054485199999998, 48.55057979999998, 9.064485199999998), (48.54057979999998, 9.064485199999998, 48.55057979999998, 9.074485199999998), (48.54057979999998, 9.074485199999998, 48.55057979999998, 9.084485199999998), (48.54057979999998, 9.084485199999998, 48.55057979999998, 9.094485199999998), (48.54057979999998, 9.094485199999998, 48.55057979999998, 9.104485199999997), (48.54057979999998, 9.104485199999997, 48.55057979999998, 9.114485199999997), (48.54057979999998, 9.114485199999997, 48.55057979999998, 9.124485199999997), (48.54057979999998, 9.124485199999997, 48.55057979999998, 9.131081600000002), (48.55057979999998, 8.9644852, 48.56057979999998, 8.9744852), (48.55057979999998, 8.9744852, 48.56057979999998, 8.9844852), (48.55057979999998, 8.9844852, 48.56057979999998, 8.9944852), (48.55057979999998, 8.9944852, 48.56057979999998, 9.0044852), (48.55057979999998, 9.0044852, 48.56057979999998, 9.0144852), (48.55057979999998, 9.0144852, 48.56057979999998, 9.024485199999999), (48.55057979999998, 9.024485199999999, 48.56057979999998, 9.034485199999999), (48.55057979999998, 9.034485199999999, 48.56057979999998, 9.044485199999999), (48.55057979999998, 9.044485199999999, 48.56057979999998, 9.054485199999998), (48.55057979999998, 9.054485199999998, 48.56057979999998, 9.064485199999998), (48.55057979999998, 9.064485199999998, 48.56057979999998, 9.074485199999998), (48.55057979999998, 9.074485199999998, 48.56057979999998, 9.084485199999998), (48.55057979999998, 9.084485199999998, 48.56057979999998, 9.094485199999998), (48.55057979999998, 9.094485199999998, 48.56057979999998, 9.104485199999997), (48.55057979999998, 9.104485199999997, 48.56057979999998, 9.114485199999997), (48.55057979999998, 9.114485199999997, 48.56057979999998, 9.124485199999997), (48.55057979999998, 9.124485199999997, 48.56057979999998, 9.131081600000002), (48.56057979999998, 8.9644852, 48.570579799999976, 8.9744852), (48.56057979999998, 8.9744852, 48.570579799999976, 8.9844852), (48.56057979999998, 8.9844852, 48.570579799999976, 8.9944852), (48.56057979999998, 8.9944852, 48.570579799999976, 9.0044852), (48.56057979999998, 9.0044852, 48.570579799999976, 9.0144852), (48.56057979999998, 9.0144852, 48.570579799999976, 9.024485199999999), (48.56057979999998, 9.024485199999999, 48.570579799999976, 9.034485199999999), (48.56057979999998, 9.034485199999999, 48.570579799999976, 9.044485199999999), (48.56057979999998, 9.044485199999999, 48.570579799999976, 9.054485199999998), (48.56057979999998, 9.054485199999998, 48.570579799999976, 9.064485199999998), (48.56057979999998, 9.064485199999998, 48.570579799999976, 9.074485199999998), (48.56057979999998, 9.074485199999998, 48.570579799999976, 9.084485199999998), (48.56057979999998, 9.084485199999998, 48.570579799999976, 9.094485199999998), (48.56057979999998, 9.094485199999998, 48.570579799999976, 9.104485199999997), (48.56057979999998, 9.104485199999997, 48.570579799999976, 9.114485199999997), (48.56057979999998, 9.114485199999997, 48.570579799999976, 9.124485199999997), (48.56057979999998, 9.124485199999997, 48.570579799999976, 9.131081600000002), (48.570579799999976, 8.9644852, 48.580579799999974, 8.9744852), (48.570579799999976, 8.9744852, 48.580579799999974, 8.9844852), (48.570579799999976, 8.9844852, 48.580579799999974, 8.9944852), (48.570579799999976, 8.9944852, 48.580579799999974, 9.0044852), (48.570579799999976, 9.0044852, 48.580579799999974, 9.0144852), (48.570579799999976, 9.0144852, 48.580579799999974, 9.024485199999999), (48.570579799999976, 9.024485199999999, 48.580579799999974, 9.034485199999999), (48.570579799999976, 9.034485199999999, 48.580579799999974, 9.044485199999999), (48.570579799999976, 9.044485199999999, 48.580579799999974, 9.054485199999998), (48.570579799999976, 9.054485199999998, 48.580579799999974, 9.064485199999998), (48.570579799999976, 9.064485199999998, 48.580579799999974, 9.074485199999998), (48.570579799999976, 9.074485199999998, 48.580579799999974, 9.084485199999998), (48.570579799999976, 9.084485199999998, 48.580579799999974, 9.094485199999998), (48.570579799999976, 9.094485199999998, 48.580579799999974, 9.104485199999997), (48.570579799999976, 9.104485199999997, 48.580579799999974, 9.114485199999997), (48.570579799999976, 9.114485199999997, 48.580579799999974, 9.124485199999997), (48.570579799999976, 9.124485199999997, 48.580579799999974, 9.131081600000002), (48.580579799999974, 8.9644852, 48.59057979999997, 8.9744852), (48.580579799999974, 8.9744852, 48.59057979999997, 8.9844852), (48.580579799999974, 8.9844852, 48.59057979999997, 8.9944852), (48.580579799999974, 8.9944852, 48.59057979999997, 9.0044852), (48.580579799999974, 9.0044852, 48.59057979999997, 9.0144852), (48.580579799999974, 9.0144852, 48.59057979999997, 9.024485199999999), (48.580579799999974, 9.024485199999999, 48.59057979999997, 9.034485199999999), (48.580579799999974, 9.034485199999999, 48.59057979999997, 9.044485199999999), (48.580579799999974, 9.044485199999999, 48.59057979999997, 9.054485199999998), (48.580579799999974, 9.054485199999998, 48.59057979999997, 9.064485199999998), (48.580579799999974, 9.064485199999998, 48.59057979999997, 9.074485199999998), (48.580579799999974, 9.074485199999998, 48.59057979999997, 9.084485199999998), (48.580579799999974, 9.084485199999998, 48.59057979999997, 9.094485199999998), (48.580579799999974, 9.094485199999998, 48.59057979999997, 9.104485199999997), (48.580579799999974, 9.104485199999997, 48.59057979999997, 9.114485199999997), (48.580579799999974, 9.114485199999997, 48.59057979999997, 9.124485199999997), (48.580579799999974, 9.124485199999997, 48.59057979999997, 9.131081600000002), (48.59057979999997, 8.9644852, 48.5937085, 8.9744852), (48.59057979999997, 8.9744852, 48.5937085, 8.9844852), (48.59057979999997, 8.9844852, 48.5937085, 8.9944852), (48.59057979999997, 8.9944852, 48.5937085, 9.0044852), (48.59057979999997, 9.0044852, 48.5937085, 9.0144852), (48.59057979999997, 9.0144852, 48.5937085, 9.024485199999999), (48.59057979999997, 9.024485199999999, 48.5937085, 9.034485199999999), (48.59057979999997, 9.034485199999999, 48.5937085, 9.044485199999999), (48.59057979999997, 9.044485199999999, 48.5937085, 9.054485199999998), (48.59057979999997, 9.054485199999998, 48.5937085, 9.064485199999998), (48.59057979999997, 9.064485199999998, 48.5937085, 9.074485199999998), (48.59057979999997, 9.074485199999998, 48.5937085, 9.084485199999998), (48.59057979999997, 9.084485199999998, 48.5937085, 9.094485199999998), (48.59057979999997, 9.094485199999998, 48.5937085, 9.104485199999997), (48.59057979999997, 9.104485199999997, 48.5937085, 9.114485199999997), (48.59057979999997, 9.114485199999997, 48.5937085, 9.124485199999997), (48.59057979999997, 9.124485199999997, 48.5937085, 9.131081600000002)]\n"
     ]
    }
   ],
   "source": [
    "tueb_grid = divide_area_in_grid(tueb_bound)\n",
    "print(len(tueb_grid))\n",
    "print(tueb_grid)"
   ]
  },
  {
   "cell_type": "markdown",
   "metadata": {},
   "source": [
    "## 2. Get places data"
   ]
  },
  {
   "cell_type": "code",
   "execution_count": 37,
   "metadata": {},
   "outputs": [],
   "source": [
    "# all fields that are possible and interesting for us\n",
    "fields_extensive = [\n",
    "    # Fields that trigger the Text Search (ID Only) SKU\n",
    "    \"places.displayName\", \"places.attributions\", \"places.id\", \"places.name\", \"nextPageToken\",\n",
    "\n",
    "    # Fields that trigger the Text Search (Basic) SKU\n",
    "    \"places.accessibilityOptions\", \"places.addressComponents\", \"places.adrFormatAddress\", \n",
    "    \"places.businessStatus\", \"places.containingPlaces\", \"places.displayName\", \n",
    "    \"places.formattedAddress\", \"places.googleMapsLinks\", \n",
    "    \"places.location\", \n",
    "    \"places.plusCode\", \"places.primaryType\", \"places.primaryTypeDisplayName\", \n",
    "    \"places.pureServiceAreaBusiness\", \"places.shortFormattedAddress\", \"places.subDestinations\", \n",
    "    \"places.types\", \"places.utcOffsetMinutes\", \"places.viewport\",\n",
    "\n",
    "    # Fields that trigger the Text Search (Advanced) SKU\n",
    "    \"places.currentOpeningHours\", \"places.currentSecondaryOpeningHours\", \n",
    "    \"places.internationalPhoneNumber\", \"places.nationalPhoneNumber\", \"places.priceLevel\", \n",
    "    \"places.priceRange\", \"places.rating\", \"places.regularOpeningHours\", \n",
    "    \"places.regularSecondaryOpeningHours\", \"places.userRatingCount\", \"places.websiteUri\",\n",
    "\n",
    "    # Fields that trigger the Text Search (Preferred) SKU\n",
    "    \"places.allowsDogs\", \"places.curbsidePickup\", \"places.delivery\", \"places.dineIn\", \n",
    "    \"places.editorialSummary\", \"places.evChargeOptions\", \"places.fuelOptions\", \n",
    "    \"places.goodForChildren\", \"places.goodForGroups\", \"places.goodForWatchingSports\", \n",
    "    \"places.liveMusic\", \"places.menuForChildren\", \"places.parkingOptions\", \n",
    "    \"places.paymentOptions\", \"places.outdoorSeating\", \"places.reservable\", \"places.restroom\", \n",
    "    \"places.reviews\", \"places.servesBeer\", \n",
    "    \"places.servesBreakfast\", \"places.servesBrunch\", \"places.servesCocktails\", \n",
    "    \"places.servesCoffee\", \"places.servesDessert\", \"places.servesDinner\", \n",
    "    \"places.servesLunch\", \"places.servesVegetarianFood\", \"places.servesWine\", \n",
    "    \"places.takeout\"\n",
    "]\n",
    "\n",
    "# to save quota \n",
    "fields_basic = [\n",
    "    \"places.displayName\", \"places.id\", \"nextPageToken\"\n",
    "]"
   ]
  },
  {
   "cell_type": "code",
   "execution_count": 38,
   "metadata": {},
   "outputs": [],
   "source": [
    "def get_places_data(boundary, fields):\n",
    "    low_lat, low_long, high_lat, high_long = boundary\n",
    "\n",
    "    # Base URL\n",
    "    base_url = \"https://places.googleapis.com/v1/places:searchText\"\n",
    "    \n",
    "    # Headers\n",
    "    headers = {\n",
    "        \"Content-Type\": \"application/json\",\n",
    "        \"X-Goog-Api-Key\": api_key,\n",
    "        \"X-Goog-FieldMask\": \",\".join(fields) \n",
    "    }\n",
    "\n",
    "    results = [] # List to store the results\n",
    "    page_token = None  # Initialize the page token to None\n",
    "\n",
    "    while True:\n",
    "        # JSON request body\n",
    "        body = {\n",
    "            \"includedType\": \"restaurant\",  # Restrict to restaurants\n",
    "            \"strictTypeFiltering\": True,  # Only return results of the specified type\n",
    "            \"textQuery\": \"restaurant\",\n",
    "            \"pageSize\": 20,  # max results per page\n",
    "            \"pageToken\": page_token,  # Next page token, if any\n",
    "            \"languageCode\": \"en\",  # Language for results\n",
    "            \"locationRestriction\": {\n",
    "                \"rectangle\": {\n",
    "                    \"low\": {\"latitude\": low_lat, \"longitude\": low_long},\n",
    "                    \"high\": {\"latitude\": high_lat, \"longitude\": high_long}\n",
    "                }}\n",
    "        }\n",
    "\n",
    "        # Send the POST request to the API\n",
    "        response = requests.post(base_url, headers=headers, json=body)\n",
    "        # Check if the request was successful\n",
    "        if response.status_code == 200:\n",
    "            data = response.json()\n",
    "\n",
    "            # Check if \"places\" key is present in the response\n",
    "            if \"places\" in data:\n",
    "                results.extend(data[\"places\"])\n",
    "            else: break # Break the loop if no results are available\n",
    "\n",
    "            # Check if there is a next page token\n",
    "            if \"nextPageToken\" in data:\n",
    "                page_token = data[\"nextPageToken\"]\n",
    "            else:\n",
    "                break\n",
    "        else:\n",
    "            print(\"Error:\", response.status_code, \"Message:\", response.text)\n",
    "            break\n",
    "    \n",
    "    return results"
   ]
  },
  {
   "cell_type": "code",
   "execution_count": 35,
   "metadata": {},
   "outputs": [
    {
     "name": "stdout",
     "output_type": "stream",
     "text": [
      "60\n",
      "[{'id': 'ChIJS41IiCblmUcRPdcnWt4Nixg', 'displayName': {'text': 'Max-Planck-Haus', 'languageCode': 'de'}}]\n"
     ]
    }
   ],
   "source": [
    "results = get_places_data(tueb_bound, fields_basic)\n",
    "print(len(results))\n",
    "print(results[:1])"
   ]
  },
  {
   "cell_type": "code",
   "execution_count": 39,
   "metadata": {},
   "outputs": [
    {
     "name": "stdout",
     "output_type": "stream",
     "text": [
      "60\n",
      "[{'id': 'ChIJS41IiCblmUcRPdcnWt4Nixg', 'displayName': {'text': 'Max-Planck-Haus', 'languageCode': 'de'}}]\n"
     ]
    }
   ],
   "source": [
    "results_extensive = get_places_data(tueb_bound, fields_extensive)\n",
    "print(len(results))\n",
    "print(results[:1])"
   ]
  },
  {
   "cell_type": "code",
   "execution_count": 58,
   "metadata": {},
   "outputs": [
    {
     "name": "stdout",
     "output_type": "stream",
     "text": [
      "places/ChIJkcyzhNP6mUcRtktmko5aqu4\n",
      "ChIJkcyzhNP6mUcRtktmko5aqu4\n",
      "places/ChIJ8dHXli3lmUcRbSsbGrUNotc\n",
      "ChIJ8dHXli3lmUcRbSsbGrUNotc\n",
      "places/ChIJS41IiCblmUcRPdcnWt4Nixg\n",
      "ChIJS41IiCblmUcRPdcnWt4Nixg\n",
      "places/ChIJP2j5YRb7mUcRvlrJted0Q_c\n",
      "ChIJP2j5YRb7mUcRvlrJted0Q_c\n",
      "places/ChIJ62MugdH6mUcR7IeaAY_mG24\n",
      "ChIJ62MugdH6mUcR7IeaAY_mG24\n"
     ]
    }
   ],
   "source": [
    "# fields that need further investigation\n",
    "for result in results_extensive[:5]:\n",
    "    print(result.get('name', 'No name field'))\n",
    "    print(result.get('id'))"
   ]
  },
  {
   "cell_type": "code",
   "execution_count": 61,
   "metadata": {},
   "outputs": [
    {
     "name": "stdout",
     "output_type": "stream",
     "text": [
      "[{'longText': '8', 'shortText': '8', 'types': ['street_number'], 'languageCode': 'en'}, {'longText': 'Lange Gasse', 'shortText': 'Lange G.', 'types': ['route'], 'languageCode': 'de'}, {'longText': 'Tübingen', 'shortText': 'Tübingen', 'types': ['locality', 'political'], 'languageCode': 'de'}, {'longText': 'Tübingen', 'shortText': 'Tübingen', 'types': ['administrative_area_level_3', 'political'], 'languageCode': 'de'}, {'longText': 'Tübingen', 'shortText': 'TÜ', 'types': ['administrative_area_level_2', 'political'], 'languageCode': 'de'}, {'longText': 'Baden-Württemberg', 'shortText': 'BW', 'types': ['administrative_area_level_1', 'political'], 'languageCode': 'de'}, {'longText': 'Germany', 'shortText': 'DE', 'types': ['country', 'political'], 'languageCode': 'en'}, {'longText': '72070', 'shortText': '72070', 'types': ['postal_code'], 'languageCode': 'en'}]\n",
      "Lange G. 8, 72070 Tübingen, Germany\n",
      "<span class=\"street-address\">Lange G. 8</span>, <span class=\"postal-code\">72070</span> <span class=\"locality\">Tübingen</span>, <span class=\"country-name\">Germany</span>\n",
      "Lange G. 8, Tübingen\n",
      "{'globalCode': '8FWFG3C4+96', 'compoundCode': 'G3C4+96 Tübingen, Germany'}\n",
      "{'latitude': 48.52095490000001, 'longitude': 9.055615699999999}\n",
      "\n",
      "[{'longText': '44', 'shortText': '44', 'types': ['street_number'], 'languageCode': 'en'}, {'longText': 'Wilhelmstraße', 'shortText': 'Wilhelmstraße', 'types': ['route'], 'languageCode': 'de'}, {'longText': 'Tübingen', 'shortText': 'Tübingen', 'types': ['locality', 'political'], 'languageCode': 'de'}, {'longText': 'Tübingen', 'shortText': 'Tübingen', 'types': ['administrative_area_level_3', 'political'], 'languageCode': 'de'}, {'longText': 'Tübingen', 'shortText': 'TÜ', 'types': ['administrative_area_level_2', 'political'], 'languageCode': 'de'}, {'longText': 'Baden-Württemberg', 'shortText': 'BW', 'types': ['administrative_area_level_1', 'political'], 'languageCode': 'de'}, {'longText': 'Germany', 'shortText': 'DE', 'types': ['country', 'political'], 'languageCode': 'en'}, {'longText': '72074', 'shortText': '72074', 'types': ['postal_code'], 'languageCode': 'en'}]\n",
      "Wilhelmstraße 44, 72074 Tübingen, Germany\n",
      "<span class=\"street-address\">Wilhelmstraße 44</span>, <span class=\"postal-code\">72074</span> <span class=\"locality\">Tübingen</span>, <span class=\"country-name\">Germany</span>\n",
      "Wilhelmstraße 44, Tübingen\n",
      "{'globalCode': '8FWFG3G7+J2', 'compoundCode': 'G3G7+J2 Tübingen, Germany'}\n",
      "{'latitude': 48.5265322, 'longitude': 9.062554}\n",
      "\n",
      "[{'longText': '13', 'shortText': '13', 'types': ['street_number'], 'languageCode': 'en'}, {'longText': 'Max-Planck-Ring', 'shortText': 'Max-Planck-Ring', 'types': ['route'], 'languageCode': 'de'}, {'longText': 'Tübingen', 'shortText': 'Tübingen', 'types': ['locality', 'political'], 'languageCode': 'de'}, {'longText': 'Tübingen', 'shortText': 'Tübingen', 'types': ['administrative_area_level_3', 'political'], 'languageCode': 'de'}, {'longText': 'Tübingen', 'shortText': 'TÜ', 'types': ['administrative_area_level_2', 'political'], 'languageCode': 'de'}, {'longText': 'Baden-Württemberg', 'shortText': 'BW', 'types': ['administrative_area_level_1', 'political'], 'languageCode': 'de'}, {'longText': 'Germany', 'shortText': 'DE', 'types': ['country', 'political'], 'languageCode': 'en'}, {'longText': '72076', 'shortText': '72076', 'types': ['postal_code'], 'languageCode': 'en'}]\n",
      "Max-Planck-Ring 13, 72076 Tübingen, Germany\n",
      "<span class=\"street-address\">Max-Planck-Ring 13</span>, <span class=\"postal-code\">72076</span> <span class=\"locality\">Tübingen</span>, <span class=\"country-name\">Germany</span>\n",
      "Max-Planck-Ring 13, Tübingen\n",
      "{'globalCode': '8FWFG3Q4+2W', 'compoundCode': 'G3Q4+2W Tübingen, Germany'}\n",
      "{'latitude': 48.5375022, 'longitude': 9.0573711}\n",
      "\n"
     ]
    }
   ],
   "source": [
    "for result in results_extensive[:3]:\n",
    "    print(result.get('addressComponents'))\n",
    "    print(result.get('formattedAddress'))\n",
    "    print(result.get('adrFormatAddress'))\n",
    "    print(result.get('shortFormattedAddress'))\n",
    "    print(result.get('plusCode'))\n",
    "    print(result.get('location'))\n",
    "    print() # empty line"
   ]
  },
  {
   "cell_type": "code",
   "execution_count": 71,
   "metadata": {},
   "outputs": [
    {
     "name": "stdout",
     "output_type": "stream",
     "text": [
      "{'openNow': True, 'periods': [{'open': {'day': 0, 'hour': 10, 'minute': 0}, 'close': {'day': 1, 'hour': 0, 'minute': 0}}, {'open': {'day': 1, 'hour': 10, 'minute': 0}, 'close': {'day': 2, 'hour': 0, 'minute': 0}}, {'open': {'day': 2, 'hour': 10, 'minute': 0}, 'close': {'day': 3, 'hour': 0, 'minute': 0}}, {'open': {'day': 3, 'hour': 10, 'minute': 0}, 'close': {'day': 4, 'hour': 0, 'minute': 0}}, {'open': {'day': 4, 'hour': 10, 'minute': 0}, 'close': {'day': 5, 'hour': 0, 'minute': 0}}, {'open': {'day': 5, 'hour': 10, 'minute': 0}, 'close': {'day': 6, 'hour': 4, 'minute': 0}}, {'open': {'day': 6, 'hour': 10, 'minute': 0}, 'close': {'day': 0, 'hour': 4, 'minute': 0}}], 'weekdayDescriptions': ['Monday: 10:00\\u202fAM\\u2009–\\u200912:00\\u202fAM', 'Tuesday: 10:00\\u202fAM\\u2009–\\u200912:00\\u202fAM', 'Wednesday: 10:00\\u202fAM\\u2009–\\u200912:00\\u202fAM', 'Thursday: 10:00\\u202fAM\\u2009–\\u200912:00\\u202fAM', 'Friday: 10:00\\u202fAM\\u2009–\\u20094:00\\u202fAM', 'Saturday: 10:00\\u202fAM\\u2009–\\u20094:00\\u202fAM', 'Sunday: 10:00\\u202fAM\\u2009–\\u200912:00\\u202fAM'], 'nextCloseTime': '2024-12-04T23:00:00Z'}\n",
      "{'openNow': True, 'periods': [{'open': {'day': 0, 'hour': 10, 'minute': 0, 'date': {'year': 2024, 'month': 12, 'day': 8}}, 'close': {'day': 1, 'hour': 0, 'minute': 0, 'date': {'year': 2024, 'month': 12, 'day': 9}}}, {'open': {'day': 1, 'hour': 10, 'minute': 0, 'date': {'year': 2024, 'month': 12, 'day': 9}}, 'close': {'day': 2, 'hour': 0, 'minute': 0, 'date': {'year': 2024, 'month': 12, 'day': 10}}}, {'open': {'day': 2, 'hour': 10, 'minute': 0, 'date': {'year': 2024, 'month': 12, 'day': 10}}, 'close': {'day': 2, 'hour': 23, 'minute': 59, 'truncated': True, 'date': {'year': 2024, 'month': 12, 'day': 10}}}, {'open': {'day': 3, 'hour': 10, 'minute': 0, 'date': {'year': 2024, 'month': 12, 'day': 4}}, 'close': {'day': 4, 'hour': 0, 'minute': 0, 'date': {'year': 2024, 'month': 12, 'day': 5}}}, {'open': {'day': 4, 'hour': 10, 'minute': 0, 'date': {'year': 2024, 'month': 12, 'day': 5}}, 'close': {'day': 5, 'hour': 0, 'minute': 0, 'date': {'year': 2024, 'month': 12, 'day': 6}}}, {'open': {'day': 5, 'hour': 10, 'minute': 0, 'date': {'year': 2024, 'month': 12, 'day': 6}}, 'close': {'day': 6, 'hour': 4, 'minute': 0, 'date': {'year': 2024, 'month': 12, 'day': 7}}}, {'open': {'day': 6, 'hour': 10, 'minute': 0, 'date': {'year': 2024, 'month': 12, 'day': 7}}, 'close': {'day': 0, 'hour': 4, 'minute': 0, 'date': {'year': 2024, 'month': 12, 'day': 8}}}], 'weekdayDescriptions': ['Monday: 10:00\\u202fAM\\u2009–\\u200912:00\\u202fAM', 'Tuesday: 10:00\\u202fAM\\u2009–\\u200912:00\\u202fAM', 'Wednesday: 10:00\\u202fAM\\u2009–\\u200912:00\\u202fAM', 'Thursday: 10:00\\u202fAM\\u2009–\\u200912:00\\u202fAM', 'Friday: 10:00\\u202fAM\\u2009–\\u20094:00\\u202fAM', 'Saturday: 10:00\\u202fAM\\u2009–\\u20094:00\\u202fAM', 'Sunday: 10:00\\u202fAM\\u2009–\\u200912:00\\u202fAM'], 'nextCloseTime': '2024-12-04T23:00:00Z'}\n",
      "None\n",
      "None\n",
      "\n",
      "{'openNow': True, 'periods': [{'open': {'day': 0, 'hour': 10, 'minute': 0}, 'close': {'day': 1, 'hour': 0, 'minute': 0}}, {'open': {'day': 1, 'hour': 10, 'minute': 0}, 'close': {'day': 2, 'hour': 1, 'minute': 0}}, {'open': {'day': 2, 'hour': 10, 'minute': 0}, 'close': {'day': 3, 'hour': 1, 'minute': 0}}, {'open': {'day': 3, 'hour': 10, 'minute': 0}, 'close': {'day': 4, 'hour': 1, 'minute': 0}}, {'open': {'day': 4, 'hour': 10, 'minute': 0}, 'close': {'day': 5, 'hour': 1, 'minute': 0}}, {'open': {'day': 5, 'hour': 10, 'minute': 0}, 'close': {'day': 6, 'hour': 1, 'minute': 0}}, {'open': {'day': 6, 'hour': 10, 'minute': 0}, 'close': {'day': 0, 'hour': 1, 'minute': 0}}], 'weekdayDescriptions': ['Monday: 10:00\\u202fAM\\u2009–\\u20091:00\\u202fAM', 'Tuesday: 10:00\\u202fAM\\u2009–\\u20091:00\\u202fAM', 'Wednesday: 10:00\\u202fAM\\u2009–\\u20091:00\\u202fAM', 'Thursday: 10:00\\u202fAM\\u2009–\\u20091:00\\u202fAM', 'Friday: 10:00\\u202fAM\\u2009–\\u20091:00\\u202fAM', 'Saturday: 10:00\\u202fAM\\u2009–\\u20091:00\\u202fAM', 'Sunday: 10:00\\u202fAM\\u2009–\\u200912:00\\u202fAM'], 'nextCloseTime': '2024-12-05T00:00:00Z'}\n",
      "{'openNow': True, 'periods': [{'open': {'day': 0, 'hour': 10, 'minute': 0, 'date': {'year': 2024, 'month': 12, 'day': 8}}, 'close': {'day': 1, 'hour': 0, 'minute': 0, 'date': {'year': 2024, 'month': 12, 'day': 9}}}, {'open': {'day': 1, 'hour': 10, 'minute': 0, 'date': {'year': 2024, 'month': 12, 'day': 9}}, 'close': {'day': 2, 'hour': 1, 'minute': 0, 'date': {'year': 2024, 'month': 12, 'day': 10}}}, {'open': {'day': 2, 'hour': 10, 'minute': 0, 'date': {'year': 2024, 'month': 12, 'day': 10}}, 'close': {'day': 2, 'hour': 23, 'minute': 59, 'truncated': True, 'date': {'year': 2024, 'month': 12, 'day': 10}}}, {'open': {'day': 3, 'hour': 0, 'minute': 0, 'truncated': True, 'date': {'year': 2024, 'month': 12, 'day': 4}}, 'close': {'day': 3, 'hour': 1, 'minute': 0, 'date': {'year': 2024, 'month': 12, 'day': 4}}}, {'open': {'day': 3, 'hour': 10, 'minute': 0, 'date': {'year': 2024, 'month': 12, 'day': 4}}, 'close': {'day': 4, 'hour': 1, 'minute': 0, 'date': {'year': 2024, 'month': 12, 'day': 5}}}, {'open': {'day': 4, 'hour': 10, 'minute': 0, 'date': {'year': 2024, 'month': 12, 'day': 5}}, 'close': {'day': 5, 'hour': 1, 'minute': 0, 'date': {'year': 2024, 'month': 12, 'day': 6}}}, {'open': {'day': 5, 'hour': 10, 'minute': 0, 'date': {'year': 2024, 'month': 12, 'day': 6}}, 'close': {'day': 6, 'hour': 1, 'minute': 0, 'date': {'year': 2024, 'month': 12, 'day': 7}}}, {'open': {'day': 6, 'hour': 10, 'minute': 0, 'date': {'year': 2024, 'month': 12, 'day': 7}}, 'close': {'day': 0, 'hour': 1, 'minute': 0, 'date': {'year': 2024, 'month': 12, 'day': 8}}}], 'weekdayDescriptions': ['Monday: 10:00\\u202fAM\\u2009–\\u20091:00\\u202fAM', 'Tuesday: 10:00\\u202fAM\\u2009–\\u20091:00\\u202fAM', 'Wednesday: 10:00\\u202fAM\\u2009–\\u20091:00\\u202fAM', 'Thursday: 10:00\\u202fAM\\u2009–\\u20091:00\\u202fAM', 'Friday: 10:00\\u202fAM\\u2009–\\u20091:00\\u202fAM', 'Saturday: 10:00\\u202fAM\\u2009–\\u20091:00\\u202fAM', 'Sunday: 10:00\\u202fAM\\u2009–\\u200912:00\\u202fAM'], 'nextCloseTime': '2024-12-05T00:00:00Z'}\n",
      "None\n",
      "None\n",
      "\n",
      "{'openNow': True, 'periods': [{'open': {'day': 1, 'hour': 7, 'minute': 30}, 'close': {'day': 1, 'hour': 15, 'minute': 0}}, {'open': {'day': 2, 'hour': 7, 'minute': 30}, 'close': {'day': 2, 'hour': 15, 'minute': 0}}, {'open': {'day': 3, 'hour': 7, 'minute': 30}, 'close': {'day': 3, 'hour': 15, 'minute': 0}}, {'open': {'day': 4, 'hour': 7, 'minute': 30}, 'close': {'day': 4, 'hour': 15, 'minute': 0}}, {'open': {'day': 5, 'hour': 7, 'minute': 30}, 'close': {'day': 5, 'hour': 15, 'minute': 0}}], 'weekdayDescriptions': ['Monday: 7:30\\u202fAM\\u2009–\\u20093:00\\u202fPM', 'Tuesday: 7:30\\u202fAM\\u2009–\\u20093:00\\u202fPM', 'Wednesday: 7:30\\u202fAM\\u2009–\\u20093:00\\u202fPM', 'Thursday: 7:30\\u202fAM\\u2009–\\u20093:00\\u202fPM', 'Friday: 7:30\\u202fAM\\u2009–\\u20093:00\\u202fPM', 'Saturday: Closed', 'Sunday: Closed'], 'nextCloseTime': '2024-12-04T14:00:00Z'}\n",
      "{'openNow': True, 'periods': [{'open': {'day': 1, 'hour': 7, 'minute': 30, 'date': {'year': 2024, 'month': 12, 'day': 9}}, 'close': {'day': 1, 'hour': 15, 'minute': 0, 'date': {'year': 2024, 'month': 12, 'day': 9}}}, {'open': {'day': 2, 'hour': 7, 'minute': 30, 'date': {'year': 2024, 'month': 12, 'day': 10}}, 'close': {'day': 2, 'hour': 15, 'minute': 0, 'date': {'year': 2024, 'month': 12, 'day': 10}}}, {'open': {'day': 3, 'hour': 7, 'minute': 30, 'date': {'year': 2024, 'month': 12, 'day': 4}}, 'close': {'day': 3, 'hour': 15, 'minute': 0, 'date': {'year': 2024, 'month': 12, 'day': 4}}}, {'open': {'day': 4, 'hour': 7, 'minute': 30, 'date': {'year': 2024, 'month': 12, 'day': 5}}, 'close': {'day': 4, 'hour': 15, 'minute': 0, 'date': {'year': 2024, 'month': 12, 'day': 5}}}, {'open': {'day': 5, 'hour': 7, 'minute': 30, 'date': {'year': 2024, 'month': 12, 'day': 6}}, 'close': {'day': 5, 'hour': 15, 'minute': 0, 'date': {'year': 2024, 'month': 12, 'day': 6}}}], 'weekdayDescriptions': ['Monday: 7:30\\u202fAM\\u2009–\\u20093:00\\u202fPM', 'Tuesday: 7:30\\u202fAM\\u2009–\\u20093:00\\u202fPM', 'Wednesday: 7:30\\u202fAM\\u2009–\\u20093:00\\u202fPM', 'Thursday: 7:30\\u202fAM\\u2009–\\u20093:00\\u202fPM', 'Friday: 7:30\\u202fAM\\u2009–\\u20093:00\\u202fPM', 'Saturday: Closed', 'Sunday: Closed'], 'nextCloseTime': '2024-12-04T14:00:00Z'}\n",
      "None\n",
      "None\n",
      "\n"
     ]
    }
   ],
   "source": [
    "for result in results_extensive[:3]:\n",
    "    print(result.get('regularOpeningHours'))\n",
    "    print(result.get('currentOpeningHours'))\n",
    "    print(result.get('currentSecondaryOpeningHours'))\n",
    "    print(result.get('regularSecondaryOpeningHours'))\n",
    "    print() # empty line\n",
    "    "
   ]
  },
  {
   "cell_type": "code",
   "execution_count": 66,
   "metadata": {},
   "outputs": [
    {
     "name": "stdout",
     "output_type": "stream",
     "text": [
      "{'text': 'Restaurant', 'languageCode': 'en'}\n",
      "restaurant\n",
      "{'text': 'Restaurant', 'languageCode': 'en'}\n",
      "restaurant\n",
      "{'text': 'Restaurant', 'languageCode': 'en'}\n",
      "restaurant\n",
      "{'text': 'Turkish restaurant', 'languageCode': 'en'}\n",
      "turkish_restaurant\n",
      "{'text': 'Restaurant', 'languageCode': 'en'}\n",
      "restaurant\n",
      "{'text': 'Cafe', 'languageCode': 'en'}\n",
      "cafe\n",
      "{'text': 'Turkish restaurant', 'languageCode': 'en'}\n",
      "turkish_restaurant\n",
      "{'text': 'Restaurant', 'languageCode': 'en'}\n",
      "restaurant\n",
      "{'text': 'Restaurant', 'languageCode': 'en'}\n",
      "restaurant\n",
      "{'text': 'Restaurant', 'languageCode': 'en'}\n",
      "restaurant\n"
     ]
    }
   ],
   "source": [
    "for result in results_extensive[:10]:\n",
    "    print(result.get('primaryTypeDisplayName'))\n",
    "    print(result.get('primaryType'))"
   ]
  },
  {
   "cell_type": "code",
   "execution_count": 67,
   "metadata": {},
   "outputs": [
    {
     "name": "stdout",
     "output_type": "stream",
     "text": [
      "{'directionsUri': \"https://www.google.com/maps/dir//''/data=!4m7!4m6!1m1!4e2!1m2!1m1!1s0x4799fad384b3cc91:0xeeaa5a8e92664bb6!3e0\", 'placeUri': 'https://maps.google.com/?cid=17197657695455693750', 'writeAReviewUri': 'https://www.google.com/maps/place//data=!4m3!3m2!1s0x4799fad384b3cc91:0xeeaa5a8e92664bb6!12e1', 'reviewsUri': 'https://www.google.com/maps/place//data=!4m4!3m3!1s0x4799fad384b3cc91:0xeeaa5a8e92664bb6!9m1!1b1', 'photosUri': 'https://www.google.com/maps/place//data=!4m3!3m2!1s0x4799fad384b3cc91:0xeeaa5a8e92664bb6!10e5'}\n",
      "{'directionsUri': \"https://www.google.com/maps/dir//''/data=!4m7!4m6!1m1!4e2!1m2!1m1!1s0x4799e52d96d7d1f1:0xd7a20db51a1b2b6d!3e0\", 'placeUri': 'https://maps.google.com/?cid=15537996735859862381', 'writeAReviewUri': 'https://www.google.com/maps/place//data=!4m3!3m2!1s0x4799e52d96d7d1f1:0xd7a20db51a1b2b6d!12e1', 'reviewsUri': 'https://www.google.com/maps/place//data=!4m4!3m3!1s0x4799e52d96d7d1f1:0xd7a20db51a1b2b6d!9m1!1b1', 'photosUri': 'https://www.google.com/maps/place//data=!4m3!3m2!1s0x4799e52d96d7d1f1:0xd7a20db51a1b2b6d!10e5'}\n",
      "{'directionsUri': \"https://www.google.com/maps/dir//''/data=!4m7!4m6!1m1!4e2!1m2!1m1!1s0x4799e52688488d4b:0x188b0dde5a27d73d!3e0\", 'placeUri': 'https://maps.google.com/?cid=1768522527319512893', 'writeAReviewUri': 'https://www.google.com/maps/place//data=!4m3!3m2!1s0x4799e52688488d4b:0x188b0dde5a27d73d!12e1', 'reviewsUri': 'https://www.google.com/maps/place//data=!4m4!3m3!1s0x4799e52688488d4b:0x188b0dde5a27d73d!9m1!1b1', 'photosUri': 'https://www.google.com/maps/place//data=!4m3!3m2!1s0x4799e52688488d4b:0x188b0dde5a27d73d!10e5'}\n",
      "{'directionsUri': \"https://www.google.com/maps/dir//''/data=!4m7!4m6!1m1!4e2!1m2!1m1!1s0x4799fb1661f9683f:0xf74374e7b5c95abe!3e0\", 'placeUri': 'https://maps.google.com/?cid=17817213089343953598', 'writeAReviewUri': 'https://www.google.com/maps/place//data=!4m3!3m2!1s0x4799fb1661f9683f:0xf74374e7b5c95abe!12e1', 'reviewsUri': 'https://www.google.com/maps/place//data=!4m4!3m3!1s0x4799fb1661f9683f:0xf74374e7b5c95abe!9m1!1b1', 'photosUri': 'https://www.google.com/maps/place//data=!4m3!3m2!1s0x4799fb1661f9683f:0xf74374e7b5c95abe!10e5'}\n",
      "{'directionsUri': \"https://www.google.com/maps/dir//''/data=!4m7!4m6!1m1!4e2!1m2!1m1!1s0x4799fad1812e63eb:0x6e1be68f019a87ec!3e0\", 'placeUri': 'https://maps.google.com/?cid=7934188670424877036', 'writeAReviewUri': 'https://www.google.com/maps/place//data=!4m3!3m2!1s0x4799fad1812e63eb:0x6e1be68f019a87ec!12e1', 'reviewsUri': 'https://www.google.com/maps/place//data=!4m4!3m3!1s0x4799fad1812e63eb:0x6e1be68f019a87ec!9m1!1b1', 'photosUri': 'https://www.google.com/maps/place//data=!4m3!3m2!1s0x4799fad1812e63eb:0x6e1be68f019a87ec!10e5'}\n"
     ]
    }
   ],
   "source": [
    "for result in results_extensive[:5]:\n",
    "    print(result.get('googleMapsLinks'))"
   ]
  },
  {
   "cell_type": "code",
   "execution_count": 68,
   "metadata": {},
   "outputs": [
    {
     "name": "stdout",
     "output_type": "stream",
     "text": [
      "{'startPrice': {'currencyCode': 'EUR', 'units': '10'}, 'endPrice': {'currencyCode': 'EUR', 'units': '20'}}\n",
      "PRICE_LEVEL_MODERATE\n",
      "{'startPrice': {'currencyCode': 'EUR', 'units': '10'}, 'endPrice': {'currencyCode': 'EUR', 'units': '20'}}\n",
      "PRICE_LEVEL_MODERATE\n",
      "None\n",
      "None\n",
      "{'startPrice': {'currencyCode': 'EUR', 'units': '1'}, 'endPrice': {'currencyCode': 'EUR', 'units': '10'}}\n",
      "None\n",
      "{'startPrice': {'currencyCode': 'EUR', 'units': '20'}, 'endPrice': {'currencyCode': 'EUR', 'units': '30'}}\n",
      "PRICE_LEVEL_MODERATE\n"
     ]
    }
   ],
   "source": [
    "for result in results_extensive[:5]:\n",
    "    print(result.get('priceRange'))\n",
    "    print(result.get('priceLevel'))"
   ]
  },
  {
   "cell_type": "code",
   "execution_count": 69,
   "metadata": {},
   "outputs": [
    {
     "name": "stdout",
     "output_type": "stream",
     "text": [
      "None\n",
      "None\n",
      "None\n",
      "[{'name': 'places/ChIJC00Gv8j6mUcRN-FRr8fBLuA', 'id': 'ChIJC00Gv8j6mUcRN-FRr8fBLuA'}]\n",
      "[{'name': 'places/ChIJUZ1AZQc8mkcRMAalGpHDdPQ', 'id': 'ChIJUZ1AZQc8mkcRMAalGpHDdPQ'}]\n"
     ]
    }
   ],
   "source": [
    "for result in results_extensive[:5]:\n",
    "    print(result.get('containingPlaces'))"
   ]
  },
  {
   "cell_type": "markdown",
   "metadata": {},
   "source": [
    "drop information: name, addressComponents, shortFormattedAddress, plusCode, currentOpeningHours, regularSecondaryOpeningHours, currentSecondaryOpeningHours"
   ]
  },
  {
   "cell_type": "code",
   "execution_count": null,
   "metadata": {},
   "outputs": [],
   "source": [
    "search_fields = [\n",
    "    # Fields that trigger the Text Search (ID Only) SKU\n",
    "    \"places.displayName\", \"places.attributions\", \"places.id\", \"nextPageToken\",\n",
    "\n",
    "    # Fields that trigger the Text Search (Basic) SKU\n",
    "    \"places.accessibilityOptions\",\n",
    "    \"places.businessStatus\", \"places.containingPlaces\", \"places.displayName\", \n",
    "    \"places.formattedAddress\", \"places.googleMapsLinks\", \n",
    "    \"places.location\", \"places.primaryType\", \"places.primaryTypeDisplayName\", \n",
    "    \"places.pureServiceAreaBusiness\", \"places.subDestinations\", \n",
    "    \"places.types\", \"places.utcOffsetMinutes\", \"places.viewport\",\n",
    "\n",
    "    # Fields that trigger the Text Search (Advanced) SKU\n",
    "    \"places.internationalPhoneNumber\", \"places.nationalPhoneNumber\", \"places.priceLevel\", \n",
    "    \"places.priceRange\", \"places.rating\", \"places.regularOpeningHours\", \n",
    "    \"places.userRatingCount\", \"places.websiteUri\",\n",
    "\n",
    "    # Fields that trigger the Text Search (Preferred) SKU\n",
    "    \"places.allowsDogs\", \"places.curbsidePickup\", \"places.delivery\", \"places.dineIn\", \n",
    "    \"places.editorialSummary\", \"places.evChargeOptions\", \"places.fuelOptions\", \n",
    "    \"places.goodForChildren\", \"places.goodForGroups\", \"places.goodForWatchingSports\", \n",
    "    \"places.liveMusic\", \"places.menuForChildren\", \"places.parkingOptions\", \n",
    "    \"places.paymentOptions\", \"places.outdoorSeating\", \"places.reservable\", \"places.restroom\", \n",
    "    \"places.reviews\", \"places.servesBeer\", \n",
    "    \"places.servesBreakfast\", \"places.servesBrunch\", \"places.servesCocktails\", \n",
    "    \"places.servesCoffee\", \"places.servesDessert\", \"places.servesDinner\", \n",
    "    \"places.servesLunch\", \"places.servesVegetarianFood\", \"places.servesWine\", \n",
    "    \"places.takeout\"\n",
    "]"
   ]
  },
  {
   "cell_type": "code",
   "execution_count": null,
   "metadata": {},
   "outputs": [],
   "source": [
    "# to save quota for the further exploration\n",
    "search_fields = [\n",
    "    # Fields that trigger the Text Search (ID Only) SKU\n",
    "    \"places.displayName\", \"places.attributions\", \"places.id\", \"nextPageToken\"]"
   ]
  },
  {
   "cell_type": "code",
   "execution_count": 82,
   "metadata": {},
   "outputs": [],
   "source": [
    "# final function to get the data\n",
    "def get_places_data(boundary):\n",
    "    low_lat, low_long, high_lat, high_long = boundary\n",
    "\n",
    "    # Base URL\n",
    "    base_url = \"https://places.googleapis.com/v1/places:searchText\"\n",
    "    \n",
    "    # Headers\n",
    "    headers = {\n",
    "        \"Content-Type\": \"application/json\",\n",
    "        \"X-Goog-Api-Key\": api_key,\n",
    "        \"X-Goog-FieldMask\": \",\".join(search_fields) \n",
    "    }\n",
    "\n",
    "    results = [] # List to store the results\n",
    "    page_token = None  # Initialize the page token to None\n",
    "\n",
    "    while True:\n",
    "        # JSON request body\n",
    "        body = {\n",
    "            \"includedType\": \"restaurant\",  # Restrict to restaurants\n",
    "            \"strictTypeFiltering\": True,  # Only return results of the specified type\n",
    "            \"textQuery\": \"restaurant\",\n",
    "            \"pageSize\": 20,  # max results per page\n",
    "            \"pageToken\": page_token,  # Next page token, if any\n",
    "            \"languageCode\": \"en\",  # Language for results\n",
    "            \"locationRestriction\": {\n",
    "                \"rectangle\": {\n",
    "                    \"low\": {\"latitude\": low_lat, \"longitude\": low_long},\n",
    "                    \"high\": {\"latitude\": high_lat, \"longitude\": high_long}\n",
    "                }}\n",
    "        }\n",
    "\n",
    "        # Send the POST request to the API\n",
    "        response = requests.post(base_url, headers=headers, json=body)\n",
    "        # Check if the request was successful\n",
    "        if response.status_code == 200:\n",
    "            data = response.json()\n",
    "\n",
    "            # Check if \"places\" key is present in the response\n",
    "            if \"places\" in data:\n",
    "                results.extend(data[\"places\"])\n",
    "            else: break # Break the loop if no results are available\n",
    "\n",
    "            # Check if there is a next page token\n",
    "            if \"nextPageToken\" in data:\n",
    "                page_token = data[\"nextPageToken\"]\n",
    "            else:\n",
    "                break\n",
    "        else:\n",
    "            print(\"Error:\", response.status_code, \"Message:\", response.text)\n",
    "            break\n",
    "    \n",
    "    return results"
   ]
  },
  {
   "cell_type": "markdown",
   "metadata": {},
   "source": [
    "## 3. Get restaurants in grid"
   ]
  },
  {
   "cell_type": "code",
   "execution_count": 83,
   "metadata": {},
   "outputs": [],
   "source": [
    "def get_places_data_in_grid(grid):\n",
    "    all_results = []\n",
    "\n",
    "    for cell in grid:\n",
    "        results = get_places_data(cell)\n",
    "        time.sleep(2)\n",
    "\n",
    "        if len(results) != 60:\n",
    "            all_results.extend(results)\n",
    "\n",
    "        # If API returns full results, recursively split the cell\n",
    "        if len(results) == 60:\n",
    "            print(f\"Overcrowded cell detected: {cell}\")\n",
    "            low_lat, low_long, high_lat, high_long = cell\n",
    "            mid_lat = (low_lat + high_lat) / 2\n",
    "            mid_long = (low_long + high_long) / 2\n",
    "            sub_cells = [\n",
    "                (low_lat, low_long, mid_lat, mid_long),  # Bottom-left\n",
    "                (low_lat, mid_long, mid_lat, high_long),  # Bottom-right\n",
    "                (mid_lat, low_long, high_lat, mid_long),  # Top-left\n",
    "                (mid_lat, mid_long, high_lat, high_long)  # Top-right\n",
    "            ]\n",
    "\n",
    "            # Recursive call for each sub-cell\n",
    "            subdivided_results = get_places_data_in_grid(sub_cells)\n",
    "            all_results.extend(subdivided_results)  # Append all subdivided results\n",
    "    \n",
    "    return all_results\n"
   ]
  },
  {
   "cell_type": "code",
   "execution_count": 84,
   "metadata": {},
   "outputs": [
    {
     "name": "stdout",
     "output_type": "stream",
     "text": [
      "Overcrowded cell detected: (48.4505798, 8.9644852, 48.5937085, 9.131081600000002)\n",
      "Overcrowded cell detected: (48.4505798, 9.0477834, 48.52214415, 9.131081600000002)\n",
      "Overcrowded cell detected: (48.486361975, 9.0477834, 48.52214415, 9.089432500000001)\n",
      "Overcrowded cell detected: (48.5042530625, 9.0477834, 48.52214415, 9.06860795)\n",
      "Overcrowded cell detected: (48.51319860625, 9.0477834, 48.52214415, 9.058195675)\n",
      "135\n"
     ]
    }
   ],
   "source": [
    "# test the function when no grid is defined only the boundary of the whole city\n",
    "all_results = get_places_data_in_grid([tueb_bound])\n",
    "print(len(all_results))"
   ]
  },
  {
   "cell_type": "code",
   "execution_count": 85,
   "metadata": {},
   "outputs": [
    {
     "name": "stdout",
     "output_type": "stream",
     "text": [
      "Overcrowded cell detected: (48.4505798, 8.9644852, 48.5937085, 9.131081600000002)\n",
      "Overcrowded cell detected: (48.4505798, 9.0477834, 48.52214415, 9.131081600000002)\n",
      "Overcrowded cell detected: (48.486361975, 9.0477834, 48.52214415, 9.089432500000001)\n",
      "Overcrowded cell detected: (48.5042530625, 9.0477834, 48.52214415, 9.06860795)\n",
      "Overcrowded cell detected: (48.51319860625, 9.0477834, 48.52214415, 9.058195675)\n",
      "134\n"
     ]
    }
   ],
   "source": [
    "all_results = get_places_data_in_grid([tueb_bound])\n",
    "print(len(all_results))"
   ]
  },
  {
   "cell_type": "code",
   "execution_count": 86,
   "metadata": {},
   "outputs": [
    {
     "name": "stdout",
     "output_type": "stream",
     "text": [
      "Overcrowded cell detected: (48.4505798, 8.9644852, 48.5937085, 9.131081600000002)\n",
      "Overcrowded cell detected: (48.4505798, 9.0477834, 48.52214415, 9.131081600000002)\n",
      "Overcrowded cell detected: (48.486361975, 9.0477834, 48.52214415, 9.089432500000001)\n",
      "Overcrowded cell detected: (48.5042530625, 9.0477834, 48.52214415, 9.06860795)\n",
      "Overcrowded cell detected: (48.51319860625, 9.0477834, 48.52214415, 9.058195675)\n",
      "129\n"
     ]
    }
   ],
   "source": [
    "all_results = get_places_data_in_grid([tueb_bound])\n",
    "print(len(all_results))"
   ]
  },
  {
   "cell_type": "markdown",
   "metadata": {},
   "source": [
    "We see that eventhough we perform the same search each time the number of restaurants in the output fluctuate. Unfortunatly, this is a known problem of the Google Places API see: https://issuetracker.google.com/issues/119250563?pli=1 "
   ]
  },
  {
   "cell_type": "code",
   "execution_count": 88,
   "metadata": {},
   "outputs": [
    {
     "name": "stdout",
     "output_type": "stream",
     "text": [
      "200\n"
     ]
    }
   ],
   "source": [
    "all_results = get_places_data_in_grid(tueb_grid)\n",
    "print(len(all_results))"
   ]
  },
  {
   "cell_type": "code",
   "execution_count": 107,
   "metadata": {},
   "outputs": [
    {
     "name": "stdout",
     "output_type": "stream",
     "text": [
      "175\n"
     ]
    }
   ],
   "source": [
    "all_results = get_places_data_in_grid(tueb_grid)\n",
    "print(len(all_results))"
   ]
  },
  {
   "cell_type": "code",
   "execution_count": 91,
   "metadata": {},
   "outputs": [
    {
     "name": "stdout",
     "output_type": "stream",
     "text": [
      "Overcrowded cell detected: (48.51057980000001, 9.044485199999999, 48.53057980000001, 9.064485199999998)\n",
      "177\n"
     ]
    },
    {
     "data": {
      "text/plain": [
       "177"
      ]
     },
     "execution_count": 91,
     "metadata": {},
     "output_type": "execute_result"
    }
   ],
   "source": [
    "tueb_grid2 = divide_area_in_grid(tueb_bound, step_size=0.02)\n",
    "all_results_grid2 = get_places_data_in_grid(tueb_grid2)\n",
    "print(len(all_results_grid2))"
   ]
  },
  {
   "cell_type": "code",
   "execution_count": 108,
   "metadata": {},
   "outputs": [
    {
     "name": "stdout",
     "output_type": "stream",
     "text": [
      "40\n",
      "40\n"
     ]
    }
   ],
   "source": [
    "b = [48.52057980000001, 9.044485199999999, 48.53057980000001, 9.064485199999998]\n",
    "res1 = get_places_data_in_grid([b])\n",
    "print(len(res1))\n",
    "res2 = get_places_data(b)\n",
    "print(len(res2))"
   ]
  },
  {
   "cell_type": "markdown",
   "metadata": {},
   "source": [
    "### all restaurant in tuebingen"
   ]
  },
  {
   "cell_type": "code",
   "execution_count": null,
   "metadata": {},
   "outputs": [],
   "source": [
    "search_fields = [\n",
    "    # Fields that trigger the Text Search (ID Only) SKU\n",
    "    \"places.displayName\", \"places.attributions\", \"places.id\", \"nextPageToken\",\n",
    "\n",
    "    # Fields that trigger the Text Search (Basic) SKU\n",
    "    \"places.accessibilityOptions\",\n",
    "    \"places.businessStatus\", \"places.containingPlaces\", \"places.displayName\", \n",
    "    \"places.formattedAddress\", \"places.googleMapsLinks\", \n",
    "    \"places.location\", \"places.primaryType\", \"places.primaryTypeDisplayName\", \n",
    "    \"places.pureServiceAreaBusiness\", \"places.subDestinations\", \n",
    "    \"places.types\", \"places.utcOffsetMinutes\", \"places.viewport\",\n",
    "\n",
    "    # Fields that trigger the Text Search (Advanced) SKU\n",
    "    \"places.internationalPhoneNumber\", \"places.nationalPhoneNumber\", \"places.priceLevel\", \n",
    "    \"places.priceRange\", \"places.rating\", \"places.regularOpeningHours\", \n",
    "    \"places.userRatingCount\", \"places.websiteUri\",\n",
    "\n",
    "    # Fields that trigger the Text Search (Preferred) SKU\n",
    "    \"places.allowsDogs\", \"places.curbsidePickup\", \"places.delivery\", \"places.dineIn\", \n",
    "    \"places.editorialSummary\", \"places.evChargeOptions\", \"places.fuelOptions\", \n",
    "    \"places.goodForChildren\", \"places.goodForGroups\", \"places.goodForWatchingSports\", \n",
    "    \"places.liveMusic\", \"places.menuForChildren\", \"places.parkingOptions\", \n",
    "    \"places.paymentOptions\", \"places.outdoorSeating\", \"places.reservable\", \"places.restroom\", \n",
    "    \"places.reviews\", \"places.servesBeer\", \n",
    "    \"places.servesBreakfast\", \"places.servesBrunch\", \"places.servesCocktails\", \n",
    "    \"places.servesCoffee\", \"places.servesDessert\", \"places.servesDinner\", \n",
    "    \"places.servesLunch\", \"places.servesVegetarianFood\", \"places.servesWine\", \n",
    "    \"places.takeout\"\n",
    "]"
   ]
  },
  {
   "cell_type": "code",
   "execution_count": 111,
   "metadata": {},
   "outputs": [],
   "source": [
    "all_restaurants = get_places_data_in_grid(tueb_grid)"
   ]
  },
  {
   "cell_type": "markdown",
   "metadata": {},
   "source": [
    "## 4. Clean dataset\n",
    "for a description of each variable go to: https://developers.google.com/maps/documentation/places/web-service/reference/rest/v1/places "
   ]
  },
  {
   "cell_type": "code",
   "execution_count": 120,
   "metadata": {},
   "outputs": [],
   "source": [
    "def clean_dataset(results):\n",
    "    cleaned_basics = []\n",
    "    cleaned_general_info = []\n",
    "    cleaned_restaurant_specific = []\n",
    "    cleaned_user_specific = []\n",
    "\n",
    "    for result in results:\n",
    "        # the most basic information\n",
    "        basic_info = {\n",
    "            \"id\": result.get(\"id\"),\n",
    "            \"name\": result.get(\"displayName\")}\n",
    "        cleaned_basics.append(basic_info)\n",
    "\n",
    "        # general information\n",
    "        general_info = {\n",
    "            \"id\": result.get(\"id\"),\n",
    "            \"name\": result.get(\"displayName\"),\n",
    "            \"attributions\": result.get(\"attributions\"),\n",
    "            \"types\": result.get(\"types\"),\n",
    "            \"primaryType\": result.get(\"primaryType\"),\n",
    "            \"primaryTypeDisplayName\": result.get(\"primaryTypeDisplayName\"),\n",
    "            \"businessStatus\": result.get(\"businessStatus\"),\n",
    "            \"containingPlaces\": result.get(\"containingPlaces\"),\n",
    "            \"pureServiceAreaBusiness\": result.get(\"pureServiceAreaBusiness\"),\n",
    "            \"formattedAddress\": result.get(\"formattedAddress\"),\n",
    "            \"location\": result.get(\"location\"),\n",
    "            \"subDestinations\": result.get(\"subDestinations\"),\n",
    "            \"nationalPhoneNumber\": result.get(\"nationalPhoneNumber\"),\n",
    "            \"internationalPhoneNumber\": result.get(\"internationalPhoneNumber\"),\n",
    "            \"placesWebsiteUri\": result.get(\"websiteUri\"),\n",
    "            \"editorialSummary\": result.get(\"editorialSummary\"),\n",
    "            \"regularOpeningHours\": result.get(\"regularOpeningHours\"),\n",
    "            \"utcOffsetMinutes\": result.get(\"utcOffsetMinutes\"),\n",
    "            \"priceLevel\": result.get(\"priceLevel\"),\n",
    "            \"priceRange\": result.get(\"priceRange\"),\n",
    "            \"rating\": result.get(\"rating\"),\n",
    "            \"userRatingCount\": result.get(\"userRatingCount\"),\n",
    "            \"reviews\": result.get(\"reviews\")}\n",
    "        cleaned_general_info.append(general_info)\n",
    "\n",
    "        # restaurant specific information\n",
    "        restaurant_info = {\n",
    "            \"id\": result.get(\"id\"),\n",
    "            \"name\": result.get(\"displayName\"),\n",
    "            \"curbsidePickup\": result.get(\"curbsidePickup\"),\n",
    "            \"delivery\": result.get(\"delivery\"),\n",
    "            \"dineIn\": result.get(\"dineIn\"),\n",
    "            \"evChargeOptions\": result.get(\"evChargeOptions\"),\n",
    "            \"fuelOptions\": result.get(\"fuelOptions\"),\n",
    "            \"liveMusic\": result.get(\"liveMusic\"),\n",
    "            \"parkingOptions\": result.get(\"parkingOptions\"),\n",
    "            \"paymentOptions\": result.get(\"paymentOptions\"),\n",
    "            \"outdoorSeating\": result.get(\"outdoorSeating\"),\n",
    "            \"reservable\": result.get(\"reservable\"),\n",
    "            \"restroom\": result.get(\"restroom\"),\n",
    "            \"servesBeer\": result.get(\"servesBeer\"),\n",
    "            \"servesBreakfast\": result.get(\"servesBreakfast\"),\n",
    "            \"servesBrunch\": result.get(\"servesBrunch\"),\n",
    "            \"servesCocktails\": result.get(\"servesCocktails\"),\n",
    "            \"servesCoffee\": result.get(\"servesCoffee\"),\n",
    "            \"servesDessert\": result.get(\"servesDessert\"),\n",
    "            \"servesDinner\": result.get(\"servesDinner\"),\n",
    "            \"servesLunch\": result.get(\"servesLunch\"),\n",
    "            \"servesVegetarianFood\": result.get(\"servesVegetarianFood\"),\n",
    "            \"servesWine\": result.get(\"servesWine\"),\n",
    "            \"takeout\": result.get(\"takeout\")}\n",
    "        cleaned_restaurant_specific.append(restaurant_info)\n",
    "\n",
    "        # user specific information\n",
    "        user_info = {\n",
    "            \"id\": result.get(\"id\"),\n",
    "            \"name\": result.get(\"displayName\"),\n",
    "            \"accessibilityOptions\": result.get(\"accessibilityOptions\"),\n",
    "            \"allowsDogs\": result.get(\"allowsDogs\"),\n",
    "            \"goodForChildren\": result.get(\"goodForChildren\"),\n",
    "            \"goodForGroups\": result.get(\"goodForGroups\"),\n",
    "            \"goodForWatchingSports\": result.get(\"goodForWatchingSports\"),\n",
    "            \"menuForChildren\": result.get(\"menuForChildren\")}\n",
    "        cleaned_user_specific.append(user_info)\n",
    "\n",
    "    cleaned_basics = pd.DataFrame(cleaned_basics)\n",
    "    cleaned_general_info = pd.DataFrame(cleaned_general_info)\n",
    "    cleaned_restaurant_specific = pd.DataFrame(cleaned_restaurant_specific)\n",
    "    cleaned_user_specific = pd.DataFrame(cleaned_user_specific)\n",
    "    return cleaned_basics, cleaned_general_info, cleaned_restaurant_specific, cleaned_user_specific\n"
   ]
  },
  {
   "cell_type": "code",
   "execution_count": 122,
   "metadata": {},
   "outputs": [],
   "source": [
    "TUE_basics, TUE_general, TUE_restaurant_specific, TUE_user_specific = clean_dataset(all_restaurants)\n",
    "\n",
    "# save the data in a csv file\n",
    "TUE_basics.to_csv(\"TUE_basics.csv\", index=False)\n",
    "TUE_general.to_csv(\"TUE_general.csv\", index=False)\n",
    "TUE_restaurant_specific.to_csv(\"TUE_restaurant_specific.csv\", index=False)\n",
    "TUE_user_specific.to_csv(\"TUE_user_specific.csv\", index=False)"
   ]
  }
 ],
 "metadata": {
  "kernelspec": {
   "display_name": ".venv",
   "language": "python",
   "name": "python3"
  },
  "language_info": {
   "codemirror_mode": {
    "name": "ipython",
    "version": 3
   },
   "file_extension": ".py",
   "mimetype": "text/x-python",
   "name": "python",
   "nbconvert_exporter": "python",
   "pygments_lexer": "ipython3",
   "version": "3.11.9"
  }
 },
 "nbformat": 4,
 "nbformat_minor": 2
}
