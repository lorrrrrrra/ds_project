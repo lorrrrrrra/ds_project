{
 "cells": [
  {
   "cell_type": "code",
   "execution_count": 2,
   "metadata": {},
   "outputs": [],
   "source": [
    "import pandas as pd"
   ]
  },
  {
   "cell_type": "code",
   "execution_count": 4,
   "metadata": {},
   "outputs": [],
   "source": [
    "# loading the scraped data\n",
    "reviews_general = pd.read_csv(\"csv files/reviews_general_backup_2025_01_12.csv\")\n",
    "reviews_additional = pd.read_csv(\"csv files/reviews_additional_backup_2025_01_12.csv\")"
   ]
  },
  {
   "cell_type": "code",
   "execution_count": 5,
   "metadata": {},
   "outputs": [],
   "source": [
    "restaurant_ids_to_keep = [\"ChIJ8dHXli3lmUcRbSsbGrUNotc\", \n",
    "                          \"ChIJYR6MeNP6mUcRX0PfqXYXqks\", \n",
    "                          \"ChIJ5bNxBdP6mUcRoihNgmDzZl4\",\n",
    "                          \"ChIJm7waYdT6mUcRxPFyE982gE0\",\n",
    "                          \"ChIJbxg5UNT6mUcRY_RPFW_mgjg\"]"
   ]
  },
  {
   "cell_type": "code",
   "execution_count": 6,
   "metadata": {},
   "outputs": [],
   "source": [
    "filtered_general = reviews_general[reviews_general['restaurant_id'].isin(restaurant_ids_to_keep)]\n",
    "filtered_additional = reviews_additional[reviews_additional['restaurant_id'].isin(restaurant_ids_to_keep)]"
   ]
  },
  {
   "cell_type": "code",
   "execution_count": 4,
   "metadata": {},
   "outputs": [],
   "source": [
    "# reading the data from the API\n",
    "restaurant_general = pd.read_csv(\"API_general.csv\")\n",
    "restaurant_basics = pd.read_csv(\"API_basics.csv\")"
   ]
  },
  {
   "cell_type": "code",
   "execution_count": 5,
   "metadata": {},
   "outputs": [],
   "source": [
    "reviews_general_aggregated = reviews_general.groupby('restaurant_id').size().reset_index(name='review_count')"
   ]
  },
  {
   "cell_type": "code",
   "execution_count": 10,
   "metadata": {},
   "outputs": [],
   "source": [
    "joined = pd.merge(restaurant_general, reviews_general_aggregated, how=\"left\", on=\"restaurant_id\")\n",
    "joined = pd.merge(joined, restaurant_basics, how=\"left\", on=\"restaurant_id\")\n",
    "joined = joined[[\"restaurant_id\", \"google_user_rating_count\", \"review_count\", \"city_id\", \"name\"]]\n",
    "joined[\"difference\"] = joined[\"google_user_rating_count\"] - joined[\"review_count\"]\n",
    "joined.sort_values(by=\"city_id\", ascending=True, inplace=True)"
   ]
  },
  {
   "cell_type": "code",
   "execution_count": 4,
   "metadata": {},
   "outputs": [],
   "source": [
    "restaurant_basics.sort_values(by=\"google_user_rating_count\", ascending=True, inplace=True)"
   ]
  },
  {
   "cell_type": "code",
   "execution_count": 5,
   "metadata": {},
   "outputs": [],
   "source": [
    "reviews_general = pd.read_csv(\"reviews_general_combined.csv\")\n",
    "reviews_additional = pd.read_csv(\"reviews_additional_combined.csv\")"
   ]
  },
  {
   "cell_type": "code",
   "execution_count": 13,
   "metadata": {},
   "outputs": [],
   "source": [
    "reviews_general_aggregated_test = reviews_general_test.groupby('restaurant_id').size().reset_index(name='review_count')\n",
    "joined = pd.merge(restaurant_general, reviews_general_aggregated_test, how=\"left\", on=\"restaurant_id\")\n",
    "joined = joined[[\"restaurant_id\", \"google_user_rating_count\", \"review_count\"]]\n",
    "joined[\"difference\"] = joined[\"google_user_rating_count\"] - joined[\"review_count\"]"
   ]
  },
  {
   "cell_type": "code",
   "execution_count": 14,
   "metadata": {},
   "outputs": [
    {
     "data": {
      "text/plain": [
       "1943"
      ]
     },
     "execution_count": 14,
     "metadata": {},
     "output_type": "execute_result"
    }
   ],
   "source": [
    "reviews_general_aggregated_test[\"review_count\"].sum()"
   ]
  }
 ],
 "metadata": {
  "kernelspec": {
   "display_name": "Python 3",
   "language": "python",
   "name": "python3"
  },
  "language_info": {
   "codemirror_mode": {
    "name": "ipython",
    "version": 3
   },
   "file_extension": ".py",
   "mimetype": "text/x-python",
   "name": "python",
   "nbconvert_exporter": "python",
   "pygments_lexer": "ipython3",
   "version": "3.12.0"
  }
 },
 "nbformat": 4,
 "nbformat_minor": 2
}
