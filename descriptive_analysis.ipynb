{
 "cells": [
  {
   "cell_type": "code",
   "execution_count": 2,
   "metadata": {},
   "outputs": [],
   "source": [
    "import pandas as pd\n",
    "from dateutil.relativedelta import relativedelta\n",
    "from datetime import datetime\n",
    "import matplotlib.pyplot as plt"
   ]
  },
  {
   "cell_type": "code",
   "execution_count": 3,
   "metadata": {},
   "outputs": [],
   "source": [
    "# loading the data\n",
    "reviews_general_selected  = pd.read_csv(\"C:/Users/Theresa/Downloads/filtered_reviews_general.csv\")\n",
    "reviews_additional_selected = pd.read_csv(\"C:/Users/Theresa/Downloads/filtered_reviews_additional.csv\")\n",
    "api_general = pd.read_csv(\"C:/Users/Theresa/Downloads/api_general.csv\")\n",
    "api_additional = pd.read_csv(\"C:/Users/Theresa/Downloads/api_additional.csv\")\n",
    "api_basics = pd.read_csv(\"C:/Users/Theresa/Downloads/api_basics.csv\")"
   ]
  },
  {
   "cell_type": "code",
   "execution_count": 4,
   "metadata": {},
   "outputs": [],
   "source": [
    "# merging the data\n",
    "reviews = pd.merge(reviews_general_selected, reviews_additional_selected, on='review_id', how='outer')\n",
    "reviews_full = pd.merge(reviews, api_basics, left_on = \"restaurant_id_x\", right_on = \"id\", how = 'left')"
   ]
  },
  {
   "cell_type": "code",
   "execution_count": 5,
   "metadata": {},
   "outputs": [],
   "source": [
    "# function to calculate the actual date\n",
    "def calculate_actual_date(row):\n",
    "    review_text = row[\"review_date\"]\n",
    "    scraping_date = row[\"scraping_date\"]\n",
    "\n",
    "    # check if review date is a string\n",
    "    if not isinstance(review_text, str) or pd.isna(review_text):\n",
    "        return None\n",
    "\n",
    "    # months\n",
    "    if \"Monat\" in review_text:\n",
    "        months = int(review_text.split()[1]) if \"einem\" not in review_text else 1\n",
    "        return scraping_date - relativedelta(months=months)\n",
    "\n",
    "    # years\n",
    "    elif \"Jahr\" in review_text:\n",
    "        years = int(review_text.split()[1]) if \"einem\" not in review_text else 1\n",
    "        return scraping_date - relativedelta(years=years)\n",
    "\n",
    "    # weeks\n",
    "    elif \"Woche\" in review_text:\n",
    "        weeks = int(review_text.split()[1]) if \"einer\" not in review_text else 1\n",
    "        return scraping_date - pd.to_timedelta(weeks * 7, unit=\"days\")\n",
    "\n",
    "    # days\n",
    "    elif \"Tag\" in review_text:\n",
    "        days = int(review_text.split()[1]) if \"einem\" not in review_text else 1\n",
    "        return scraping_date - pd.to_timedelta(days, unit=\"days\")\n",
    "\n",
    "    # default if nothing is found\n",
    "    return None"
   ]
  },
  {
   "cell_type": "code",
   "execution_count": 6,
   "metadata": {},
   "outputs": [],
   "source": [
    "# convert scraping_date to datetime\n",
    "reviews_full[\"scraping_date\"] = pd.to_datetime(reviews_full[\"scraping_date\"])\n",
    "\n",
    "# apply the function to the dataframe\n",
    "reviews_full[\"actual_review_date\"] = reviews_full.apply(calculate_actual_date, axis=1)"
   ]
  },
  {
   "cell_type": "code",
   "execution_count": 7,
   "metadata": {},
   "outputs": [],
   "source": [
    "# add column month and year\n",
    "reviews_full[\"review_month\"] = reviews_full[\"actual_review_date\"].dt.strftime(\"%m/%Y\")\n",
    "reviews_full[\"review_year\"] = reviews_full[\"actual_review_date\"].dt.strftime(\"%Y\")"
   ]
  },
  {
   "cell_type": "code",
   "execution_count": 8,
   "metadata": {},
   "outputs": [],
   "source": [
    "# group by month and year\n",
    "reviews_grouped_month = (\n",
    "    reviews_full.groupby([\"review_month\", \"restaurant_id_x\"])\n",
    "    .agg(\n",
    "        stars_mean=(\"stars\", \"mean\"),\n",
    "        stars_count=(\"stars\", \"count\"),\n",
    "        dining_stars_service_mean=(\"dining_stars_service\", \"mean\"),\n",
    "        dining_stars_service_count=(\"dining_stars_service\", \"count\"),\n",
    "        dining_stars_food_mean=(\"dining_stars_food\", \"mean\"),\n",
    "        dining_stars_food_count=(\"dining_stars_food\", \"count\"),\n",
    "        dining_stars_atmosphere_mean=(\"dining_stars_atmosphere\", \"mean\"),\n",
    "        dining_stars_atmosphere_count=(\"dining_stars_atmosphere\", \"count\")\n",
    "    )\n",
    "    .reset_index()\n",
    ")"
   ]
  },
  {
   "cell_type": "code",
   "execution_count": 9,
   "metadata": {},
   "outputs": [],
   "source": [
    "# group by year\n",
    "reviews_grouped_year = (\n",
    "    reviews_full.groupby([\"review_year\", \"restaurant_id_x\"])\n",
    "    .agg(\n",
    "        stars_mean=(\"stars\", \"mean\"),\n",
    "        stars_count=(\"stars\", \"count\"),\n",
    "        dining_stars_service_mean=(\"dining_stars_service\", \"mean\"),\n",
    "        dining_stars_service_count=(\"dining_stars_service\", \"count\"),\n",
    "        dining_stars_food_mean=(\"dining_stars_food\", \"mean\"),\n",
    "        dining_stars_food_count=(\"dining_stars_food\", \"count\"),\n",
    "        dining_stars_atmosphere_mean=(\"dining_stars_atmosphere\", \"mean\"),\n",
    "        dining_stars_atmosphere_count=(\"dining_stars_atmosphere\", \"count\")\n",
    "    )\n",
    "    .reset_index()\n",
    ")"
   ]
  },
  {
   "cell_type": "code",
   "execution_count": 10,
   "metadata": {},
   "outputs": [],
   "source": [
    "# group by year\n",
    "dining_price_range_group = (\n",
    "    reviews_full.groupby([\"dining_price_range\", \"restaurant_id_x\"])\n",
    "    .agg(\n",
    "        dining_price_range_count=(\"dining_price_range\", \"count\")\n",
    "    )\n",
    "    .reset_index()\n",
    ")"
   ]
  },
  {
   "cell_type": "code",
   "execution_count": 14,
   "metadata": {},
   "outputs": [],
   "source": [
    "# saving the dataframes\n",
    "reviews_grouped_year.to_csv('reviews_grouped_year.csv', index=False)\n",
    "reviews_grouped_month.to_csv('reviews_grouped_month.csv', index=False)\n",
    "dining_price_range_group.to_csv('dining_price_range_group.csv', index=False)    "
   ]
  },
  {
   "cell_type": "code",
   "execution_count": 11,
   "metadata": {},
   "outputs": [],
   "source": [
    "# # add column month and year\n",
    "# reviews_full[\"review_month\"] = reviews_full[\"actual_review_date\"].dt.strftime(\"%m/%Y\")\n",
    "\n",
    "# # Group by review_month and restaurant_id, and calculate the average stars\n",
    "# avg_stars_month = reviews_full.groupby([\"review_month\", \"restaurant_id_x\"])[\"stars\"].mean().reset_index()\n",
    "\n",
    "# # Pivot the DataFrame for visualization\n",
    "# avg_stars_month_pivot = avg_stars_month.pivot(index=\"review_month\", columns=\"restaurant_id_x\", values=\"stars\")\n",
    "\n",
    "# avg_stars_month_pivot = avg_stars_month_pivot[\"ChIJU3_pY4T7mUcREub8_JVTsJc\"]\n",
    "\n",
    "\n",
    "# plt.figure(figsize=(12, 6))\n",
    "# avg_stars_month_pivot.plot(marker=\"o\", title=\"Average Stars Per Month and Restaurant ID\")\n",
    "# plt.xlabel(\"Month\")\n",
    "# plt.ylabel(\"Average Stars\")\n",
    "# plt.legend(title=\"Restaurant ID\")\n",
    "# plt.grid(True)\n",
    "# plt.show()"
   ]
  },
  {
   "cell_type": "code",
   "execution_count": 12,
   "metadata": {},
   "outputs": [],
   "source": [
    "# # Add column for review_week in \"KW YYYY\" format\n",
    "# reviews_full[\"review_week\"] = reviews_full[\"actual_review_date\"].dt.isocalendar().year.astype(str) + \"-KW\" + reviews_full[\"actual_review_date\"].dt.isocalendar().week.astype(str)\n",
    "\n",
    "# # Group by review_week and restaurant_id, and calculate the average stars\n",
    "# avg_stars_week = reviews_full.groupby([\"review_week\", \"restaurant_id_x\"])[\"stars\"].mean().reset_index()\n",
    "\n",
    "# # Pivot the DataFrame for visualization\n",
    "# avg_stars_week_pivot = avg_stars_week.pivot(index=\"review_week\", columns=\"restaurant_id_x\", values=\"stars\")\n",
    "\n",
    "# # Filter for a specific restaurant (optional, change to desired ID)\n",
    "# avg_stars_week_pivot = avg_stars_week_pivot[\"ChIJU3_pY4T7mUcREub8_JVTsJc\"]\n",
    "\n",
    "# # Plot the data\n",
    "# import matplotlib.pyplot as plt\n",
    "\n",
    "# plt.figure(figsize=(12, 6))\n",
    "# avg_stars_week_pivot.plot(marker=\"o\", title=\"Average Stars Per Kalenderwoche and Restaurant ID\")\n",
    "# plt.xlabel(\"Kalenderwoche\")\n",
    "# plt.ylabel(\"Average Stars\")\n",
    "# plt.legend(title=\"Restaurant ID\")\n",
    "# plt.grid(True)\n",
    "# plt.xticks(rotation=45)  # Rotate x-axis labels for better readability\n",
    "# plt.show()\n",
    "\n"
   ]
  },
  {
   "cell_type": "code",
   "execution_count": 13,
   "metadata": {},
   "outputs": [],
   "source": [
    "# # Gruppiere nach Stadt und Restaurant, und berechne die durchschnittliche Sternebewertung\n",
    "# avg_stars_per_restaurant_per_city = reviews_full.groupby([\"city\", \"restaurant_id_x\"])[\"stars\"].mean().reset_index(name=\"avg_stars\")\n",
    "\n",
    "# # Funktion, um die Top 5 Restaurants pro Stadt nach Durchschnitts-Sternebewertung auszuwählen\n",
    "# top_5_restaurants_by_stars_per_city = avg_stars_per_restaurant_per_city.groupby(\"city\").apply(lambda x: x.nlargest(5, \"avg_stars\")).reset_index(drop=True)\n",
    "\n",
    "# # Anzeigen der Top 5 Restaurants pro Stadt nach Durchschnitts-Sternebewertung\n",
    "# print(top_5_restaurants_by_stars_per_city)\n",
    "\n",
    "# # Optional: Visualisierung der Top 5 Restaurants pro Stadt (nur für eine bestimmte Stadt)\n",
    "# # Beispiel: Top 5 Restaurants in einer bestimmten Stadt visualisieren (z.B. \"Tübingen\")\n",
    "# city_to_plot = \"Tübingen\"\n",
    "# top_5_in_city = top_5_restaurants_by_stars_per_city[top_5_restaurants_by_stars_per_city[\"city\"] == city_to_plot]\n",
    "\n",
    "# # Anzeigen der Top 5 Restaurants pro Stadt nach Durchschnitts-Sternebewertung\n",
    "# print(top_5_restaurants_by_stars_per_city)\n"
   ]
  }
 ],
 "metadata": {
  "kernelspec": {
   "display_name": "Python 3",
   "language": "python",
   "name": "python3"
  },
  "language_info": {
   "codemirror_mode": {
    "name": "ipython",
    "version": 3
   },
   "file_extension": ".py",
   "mimetype": "text/x-python",
   "name": "python",
   "nbconvert_exporter": "python",
   "pygments_lexer": "ipython3",
   "version": "3.12.0"
  }
 },
 "nbformat": 4,
 "nbformat_minor": 2
}
